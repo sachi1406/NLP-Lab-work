{
  "nbformat": 4,
  "nbformat_minor": 0,
  "metadata": {
    "colab": {
      "provenance": []
    },
    "kernelspec": {
      "name": "python3",
      "display_name": "Python 3"
    },
    "language_info": {
      "name": "python"
    }
  },
  "cells": [
    {
      "cell_type": "markdown",
      "source": [
        "## Name : Sachi Shah\n",
        "## Roll no: C094\n",
        "## Div: C\n",
        "## Batch: EB3"
      ],
      "metadata": {
        "id": "Jx04RjSDEkiL"
      }
    },
    {
      "cell_type": "code",
      "source": [
        "pip install beautifulsoup4"
      ],
      "metadata": {
        "colab": {
          "base_uri": "https://localhost:8080/"
        },
        "id": "5Z9Uz1_6EkLs",
        "outputId": "8de57b70-4112-49a2-a4fb-1772a3f4589b"
      },
      "execution_count": null,
      "outputs": [
        {
          "output_type": "stream",
          "name": "stdout",
          "text": [
            "Looking in indexes: https://pypi.org/simple, https://us-python.pkg.dev/colab-wheels/public/simple/\n",
            "Requirement already satisfied: beautifulsoup4 in /usr/local/lib/python3.8/dist-packages (4.6.3)\n"
          ]
        }
      ]
    },
    {
      "cell_type": "code",
      "source": [
        "import nltk\n",
        "nltk.download('stopwords')\n",
        "\n",
        "import nltk\n",
        "nltk.download('punkt')"
      ],
      "metadata": {
        "colab": {
          "base_uri": "https://localhost:8080/"
        },
        "id": "WawqMS65F2eQ",
        "outputId": "74993a01-e020-4378-d9ee-5941dd3b9075"
      },
      "execution_count": null,
      "outputs": [
        {
          "output_type": "stream",
          "name": "stderr",
          "text": [
            "[nltk_data] Downloading package stopwords to /root/nltk_data...\n",
            "[nltk_data]   Unzipping corpora/stopwords.zip.\n",
            "[nltk_data] Downloading package punkt to /root/nltk_data...\n",
            "[nltk_data]   Unzipping tokenizers/punkt.zip.\n"
          ]
        },
        {
          "output_type": "execute_result",
          "data": {
            "text/plain": [
              "True"
            ]
          },
          "metadata": {},
          "execution_count": 3
        }
      ]
    },
    {
      "cell_type": "code",
      "source": [
        "pip install lxml"
      ],
      "metadata": {
        "colab": {
          "base_uri": "https://localhost:8080/"
        },
        "id": "vwUQ-9VGElEz",
        "outputId": "a05e3e32-342c-463b-ebf4-59323bf41245"
      },
      "execution_count": null,
      "outputs": [
        {
          "output_type": "stream",
          "name": "stdout",
          "text": [
            "Looking in indexes: https://pypi.org/simple, https://us-python.pkg.dev/colab-wheels/public/simple/\n",
            "Requirement already satisfied: lxml in /usr/local/lib/python3.8/dist-packages (4.9.2)\n"
          ]
        }
      ]
    },
    {
      "cell_type": "markdown",
      "source": [
        "## Getting Data"
      ],
      "metadata": {
        "id": "oKRr9YYGEfaD"
      }
    },
    {
      "cell_type": "code",
      "source": [
        "import bs4 as bs\n",
        "import urllib.request\n",
        "import re\n",
        "import nltk\n",
        "from nltk.tokenize import word_tokenize\n",
        "from nltk.tokenize import sent_tokenize\n",
        "scrapped_data = urllib.request.urlopen('https://en.wikipedia.org/wiki/Natural_language_processing')\n",
        "article = scrapped_data .read()\n",
        "\n",
        "parsed_article = bs.BeautifulSoup(article,'lxml')\n",
        "\n",
        "paragraphs = parsed_article.find_all('p')\n",
        "\n",
        "article_text = \"\"\n",
        "\n",
        "for p in paragraphs:\n",
        "    article_text += p.text"
      ],
      "metadata": {
        "id": "dlJNS4ncEqvr"
      },
      "execution_count": null,
      "outputs": []
    },
    {
      "cell_type": "code",
      "source": [
        "# Cleaing the text\n",
        "processed_article = article_text.lower()\n",
        "processed_article = re.sub('[^a-zA-Z]', ' ', processed_article )\n",
        "processed_article = re.sub(r'\\s+', ' ', processed_article)"
      ],
      "metadata": {
        "id": "rP2JaSkOE-fJ"
      },
      "execution_count": null,
      "outputs": []
    },
    {
      "cell_type": "code",
      "source": [
        "processed_article"
      ],
      "metadata": {
        "colab": {
          "base_uri": "https://localhost:8080/",
          "height": 105
        },
        "id": "zMNGzoOlFOyB",
        "outputId": "d2738ad4-43fd-4278-8c83-6d3b1b4aebe5"
      },
      "execution_count": null,
      "outputs": [
        {
          "output_type": "execute_result",
          "data": {
            "text/plain": [
              "' pages for logged out editors learn more natural language processing nlp is an interdisciplinary subfield of linguistics computer science and artificial intelligence concerned with the interactions between computers and human language in particular how to program computers to process and analyze large amounts of natural language data the goal is a computer capable of understanding the contents of documents including the contextual nuances of the language within them the technology can then accurately extract information and insights contained in the documents as well as categorize and organize the documents themselves challenges in natural language processing frequently involve speech recognition natural language understanding and natural language generation natural language processing has its roots in the s already in alan turing published an article titled computing machinery and intelligence which proposed what is now called the turing test as a criterion of intelligence though at the time that was not articulated as a problem separate from artificial intelligence the proposed test includes a task that involves the automated interpretation and generation of natural language the premise of symbolic nlp is well summarized by john searle s chinese room experiment given a collection of rules e g a chinese phrasebook with questions and matching answers the computer emulates natural language understanding or other nlp tasks by applying those rules to the data it confronts up to the s most natural language processing systems were based on complex sets of hand written rules starting in the late s however there was a revolution in natural language processing with the introduction of machine learning algorithms for language processing this was due to both the steady increase in computational power see moore s law and the gradual lessening of the dominance of chomskyan theories of linguistics e g transformational grammar whose theoretical underpinnings discouraged the sort of corpus linguistics that underlies the machine learning approach to language processing in the s representation learning and deep neural network style machine learning methods became widespread in natural language processing that popularity was due partly to a flurry of results showing that such techniques can achieve state of the art results in many natural language tasks e g in language modeling and parsing this is increasingly important in medicine and healthcare where nlp helps analyze notes and text in electronic health records that would otherwise be inaccessible for study when seeking to improve care in the early days many language processing systems were designed by symbolic methods i e the hand coding of a set of rules coupled with a dictionary lookup such as by writing grammars or devising heuristic rules for stemming more recent systems based on machine learning algorithms have many advantages over hand produced rules despite the popularity of machine learning in nlp research symbolic methods are still commonly used since the so called statistical revolution in the late s and mid s much natural language processing research has relied heavily on machine learning the machine learning paradigm calls instead for using statistical inference to automatically learn such rules through the analysis of large corpora the plural form of corpus is a set of documents possibly with human or computer annotations of typical real world examples many different classes of machine learning algorithms have been applied to natural language processing tasks these algorithms take as input a large set of features that are generated from the input data increasingly however research has focused on statistical models which make soft probabilistic decisions based on attaching real valued weights to each input feature complex valued embeddings and neural networks in general have also been proposed for e g speech such models have the advantage that they can express the relative certainty of many different possible answers rather than only one producing more reliable results when such a model is included as a component of a larger system some of the earliest used machine learning algorithms such as decision trees produced systems of hard if then rules similar to existing hand written rules however part of speech tagging introduced the use of hidden markov models to natural language processing and increasingly research has focused on statistical models which make soft probabilistic decisions based on attaching real valued weights to the features making up the input data the cache language models upon which many speech recognition systems now rely are examples of such statistical models such models are generally more robust when given unfamiliar input especially input that contains errors as is very common for real world data and produce more reliable results when integrated into a larger system comprising multiple subtasks since the neural turn statistical methods in nlp research have been largely replaced by neural networks however they continue to be relevant for contexts in which statistical interpretability and transparency is required a major drawback of statistical methods is that they require elaborate feature engineering since the field has thus largely abandoned statistical methods and shifted to neural networks for machine learning popular techniques include the use of word embeddings to capture semantic properties of words and an increase in end to end learning of a higher level task e g question answering instead of relying on a pipeline of separate intermediate tasks e g part of speech tagging and dependency parsing in some areas this shift has entailed substantial changes in how nlp systems are designed such that deep neural network based approaches may be viewed as a new paradigm distinct from statistical natural language processing for instance the term neural machine translation nmt emphasizes the fact that deep learning based approaches to machine translation directly learn sequence to sequence transformations obviating the need for intermediate steps such as word alignment and language modeling that was used in statistical machine translation smt the following is a list of some of the most commonly researched tasks in natural language processing some of these tasks have direct real world applications while others more commonly serve as subtasks that are used to aid in solving larger tasks though natural language processing tasks are closely intertwined they can be subdivided into categories for convenience a coarse division is given below based on long standing trends in the field it is possible to extrapolate future directions of nlp as of three trends among the topics of the long standing series of conll shared tasks can be observed most higher level nlp applications involve aspects that emulate intelligent behaviour and apparent comprehension of natural language more broadly speaking the technical operationalization of increasingly advanced aspects of cognitive behaviour represents one of the developmental trajectories of nlp see trends among conll shared tasks above cognition refers to the mental action or process of acquiring knowledge and understanding through thought experience and the senses cognitive science is the interdisciplinary scientific study of the mind and its processes cognitive linguistics is an interdisciplinary branch of linguistics combining knowledge and research from both psychology and linguistics especially during the age of symbolic nlp the area of computational linguistics maintained strong ties with cognitive studies as an example george lakoff offers a methodology to build natural language processing nlp algorithms through the perspective of cognitive science along with the findings of cognitive linguistics with two defining aspects ties with cognitive linguistics are part of the historical heritage of nlp but they have been less frequently addressed since the statistical turn during the s nevertheless approaches to develop cognitive models towards technically operationalizable frameworks have been pursued in the context of various frameworks e g of cognitive grammar functional grammar construction grammar computational psycholinguistics and cognitive neuroscience e g act r however with limited uptake in mainstream nlp as measured by presence on major conferences of the acl more recently ideas of cognitive nlp have been revived as an approach to achieve explainability e g under the notion of cognitive ai likewise ideas of cognitive nlp are inherent to neural models multimodal nlp although rarely made explicit '"
            ],
            "application/vnd.google.colaboratory.intrinsic+json": {
              "type": "string"
            }
          },
          "metadata": {},
          "execution_count": 7
        }
      ]
    },
    {
      "cell_type": "code",
      "source": [
        "# Preparing the dataset\n",
        "all_sentences = nltk.sent_tokenize(processed_article)\n",
        "\n",
        "all_words = [nltk.word_tokenize(sent) for sent in all_sentences]\n",
        "\n",
        "# Removing Stop Words\n",
        "from nltk.corpus import stopwords\n",
        "for i in range(len(all_words)):\n",
        "    all_words[i] = [w for w in all_words[i] if w not in stopwords.words('english')]"
      ],
      "metadata": {
        "id": "QNGjB8tlEvCb"
      },
      "execution_count": null,
      "outputs": []
    },
    {
      "cell_type": "markdown",
      "source": [
        "## Word 2 Vec"
      ],
      "metadata": {
        "id": "eD9KaTBCE6JQ"
      }
    },
    {
      "cell_type": "code",
      "source": [
        "from gensim.models import Word2Vec\n",
        "\n",
        "word2vec = Word2Vec(all_words, min_count=2)"
      ],
      "metadata": {
        "colab": {
          "base_uri": "https://localhost:8080/"
        },
        "id": "_VS5UaPEF8WQ",
        "outputId": "a8d42229-8e0b-456b-a215-40cfe5a1dc37"
      },
      "execution_count": null,
      "outputs": [
        {
          "output_type": "stream",
          "name": "stderr",
          "text": [
            "WARNING:gensim.models.base_any2vec:under 10 jobs per worker: consider setting a smaller `batch_words' for smoother alpha decay\n"
          ]
        }
      ]
    },
    {
      "cell_type": "code",
      "source": [
        "vocabulary = word2vec.wv.vocab\n",
        "print(vocabulary)"
      ],
      "metadata": {
        "colab": {
          "base_uri": "https://localhost:8080/"
        },
        "id": "4eT9LOG5F_Dn",
        "outputId": "fa8e6242-48ea-48c0-db77-50cddc4aeedb"
      },
      "execution_count": null,
      "outputs": [
        {
          "output_type": "stream",
          "name": "stdout",
          "text": [
            "{'learn': <gensim.models.keyedvectors.Vocab object at 0x7f866fa9e0d0>, 'natural': <gensim.models.keyedvectors.Vocab object at 0x7f866fa02f10>, 'language': <gensim.models.keyedvectors.Vocab object at 0x7f86a0e61e50>, 'processing': <gensim.models.keyedvectors.Vocab object at 0x7f866fa190a0>, 'nlp': <gensim.models.keyedvectors.Vocab object at 0x7f866fa193a0>, 'interdisciplinary': <gensim.models.keyedvectors.Vocab object at 0x7f866f9ba550>, 'linguistics': <gensim.models.keyedvectors.Vocab object at 0x7f866f9ba5b0>, 'computer': <gensim.models.keyedvectors.Vocab object at 0x7f866f9ba610>, 'science': <gensim.models.keyedvectors.Vocab object at 0x7f866f9ba670>, 'artificial': <gensim.models.keyedvectors.Vocab object at 0x7f866f9ba6d0>, 'intelligence': <gensim.models.keyedvectors.Vocab object at 0x7f866f9ba730>, 'computers': <gensim.models.keyedvectors.Vocab object at 0x7f866f9ba790>, 'human': <gensim.models.keyedvectors.Vocab object at 0x7f866f9ba7f0>, 'process': <gensim.models.keyedvectors.Vocab object at 0x7f866f9ba850>, 'analyze': <gensim.models.keyedvectors.Vocab object at 0x7f866f9ba8b0>, 'large': <gensim.models.keyedvectors.Vocab object at 0x7f866f9ba910>, 'data': <gensim.models.keyedvectors.Vocab object at 0x7f866f9ba970>, 'understanding': <gensim.models.keyedvectors.Vocab object at 0x7f866f9ba9d0>, 'documents': <gensim.models.keyedvectors.Vocab object at 0x7f866f9baa30>, 'well': <gensim.models.keyedvectors.Vocab object at 0x7f866f9baa90>, 'frequently': <gensim.models.keyedvectors.Vocab object at 0x7f866f9baaf0>, 'involve': <gensim.models.keyedvectors.Vocab object at 0x7f866f9bab50>, 'speech': <gensim.models.keyedvectors.Vocab object at 0x7f866f9babb0>, 'recognition': <gensim.models.keyedvectors.Vocab object at 0x7f866f9bac10>, 'generation': <gensim.models.keyedvectors.Vocab object at 0x7f866f9bac70>, 'turing': <gensim.models.keyedvectors.Vocab object at 0x7f866f9bacd0>, 'proposed': <gensim.models.keyedvectors.Vocab object at 0x7f866f9bad30>, 'called': <gensim.models.keyedvectors.Vocab object at 0x7f866f9bad90>, 'test': <gensim.models.keyedvectors.Vocab object at 0x7f866f9badf0>, 'though': <gensim.models.keyedvectors.Vocab object at 0x7f866f9bae50>, 'separate': <gensim.models.keyedvectors.Vocab object at 0x7f866f9baeb0>, 'task': <gensim.models.keyedvectors.Vocab object at 0x7f866f9baf10>, 'symbolic': <gensim.models.keyedvectors.Vocab object at 0x7f866f9baf70>, 'chinese': <gensim.models.keyedvectors.Vocab object at 0x7f866f9bafd0>, 'given': <gensim.models.keyedvectors.Vocab object at 0x7f866f9c1070>, 'rules': <gensim.models.keyedvectors.Vocab object at 0x7f866f9c10d0>, 'e': <gensim.models.keyedvectors.Vocab object at 0x7f866f9c1130>, 'g': <gensim.models.keyedvectors.Vocab object at 0x7f866f9c1190>, 'answers': <gensim.models.keyedvectors.Vocab object at 0x7f866f9c11f0>, 'tasks': <gensim.models.keyedvectors.Vocab object at 0x7f866f9c1250>, 'systems': <gensim.models.keyedvectors.Vocab object at 0x7f866f9c12b0>, 'based': <gensim.models.keyedvectors.Vocab object at 0x7f866f9c1310>, 'complex': <gensim.models.keyedvectors.Vocab object at 0x7f866f9c1370>, 'hand': <gensim.models.keyedvectors.Vocab object at 0x7f866f9c13d0>, 'written': <gensim.models.keyedvectors.Vocab object at 0x7f866f9c1430>, 'late': <gensim.models.keyedvectors.Vocab object at 0x7f866f9c1490>, 'however': <gensim.models.keyedvectors.Vocab object at 0x7f866f9c14f0>, 'revolution': <gensim.models.keyedvectors.Vocab object at 0x7f866f9c1550>, 'machine': <gensim.models.keyedvectors.Vocab object at 0x7f866f9c15b0>, 'learning': <gensim.models.keyedvectors.Vocab object at 0x7f866f9c1610>, 'algorithms': <gensim.models.keyedvectors.Vocab object at 0x7f866f9c1670>, 'due': <gensim.models.keyedvectors.Vocab object at 0x7f866f9c16d0>, 'increase': <gensim.models.keyedvectors.Vocab object at 0x7f866f9c1730>, 'computational': <gensim.models.keyedvectors.Vocab object at 0x7f866f9c1790>, 'see': <gensim.models.keyedvectors.Vocab object at 0x7f866f9c17f0>, 'grammar': <gensim.models.keyedvectors.Vocab object at 0x7f866f9c1850>, 'corpus': <gensim.models.keyedvectors.Vocab object at 0x7f866f9c18b0>, 'approach': <gensim.models.keyedvectors.Vocab object at 0x7f866f9c1910>, 'deep': <gensim.models.keyedvectors.Vocab object at 0x7f866f9c1970>, 'neural': <gensim.models.keyedvectors.Vocab object at 0x7f866f9c19d0>, 'network': <gensim.models.keyedvectors.Vocab object at 0x7f866f9c1a30>, 'methods': <gensim.models.keyedvectors.Vocab object at 0x7f866f9c1a90>, 'popularity': <gensim.models.keyedvectors.Vocab object at 0x7f866f9c1af0>, 'results': <gensim.models.keyedvectors.Vocab object at 0x7f866f9c1b50>, 'techniques': <gensim.models.keyedvectors.Vocab object at 0x7f866f9c1bb0>, 'achieve': <gensim.models.keyedvectors.Vocab object at 0x7f866f9c1c10>, 'many': <gensim.models.keyedvectors.Vocab object at 0x7f866f9c1c70>, 'modeling': <gensim.models.keyedvectors.Vocab object at 0x7f866f9c1cd0>, 'parsing': <gensim.models.keyedvectors.Vocab object at 0x7f866f9c1d30>, 'increasingly': <gensim.models.keyedvectors.Vocab object at 0x7f866f9c1d90>, 'study': <gensim.models.keyedvectors.Vocab object at 0x7f866f9c1df0>, 'designed': <gensim.models.keyedvectors.Vocab object at 0x7f866f9c1e50>, 'set': <gensim.models.keyedvectors.Vocab object at 0x7f866f9c1eb0>, 'produced': <gensim.models.keyedvectors.Vocab object at 0x7f866f9c1f10>, 'research': <gensim.models.keyedvectors.Vocab object at 0x7f866f9c1f70>, 'commonly': <gensim.models.keyedvectors.Vocab object at 0x7f866f9c1fd0>, 'used': <gensim.models.keyedvectors.Vocab object at 0x7f866f9c3070>, 'since': <gensim.models.keyedvectors.Vocab object at 0x7f866f9c30d0>, 'statistical': <gensim.models.keyedvectors.Vocab object at 0x7f866f9c3130>, 'paradigm': <gensim.models.keyedvectors.Vocab object at 0x7f866f9c3190>, 'instead': <gensim.models.keyedvectors.Vocab object at 0x7f866f9c31f0>, 'real': <gensim.models.keyedvectors.Vocab object at 0x7f866f9c3250>, 'world': <gensim.models.keyedvectors.Vocab object at 0x7f866f9c32b0>, 'examples': <gensim.models.keyedvectors.Vocab object at 0x7f866f9c3310>, 'different': <gensim.models.keyedvectors.Vocab object at 0x7f866f9c3370>, 'input': <gensim.models.keyedvectors.Vocab object at 0x7f866f9c33d0>, 'features': <gensim.models.keyedvectors.Vocab object at 0x7f866f9c3430>, 'focused': <gensim.models.keyedvectors.Vocab object at 0x7f866f9c3490>, 'models': <gensim.models.keyedvectors.Vocab object at 0x7f866f9c34f0>, 'make': <gensim.models.keyedvectors.Vocab object at 0x7f866f9c3550>, 'soft': <gensim.models.keyedvectors.Vocab object at 0x7f866f9c35b0>, 'probabilistic': <gensim.models.keyedvectors.Vocab object at 0x7f866f9c3610>, 'decisions': <gensim.models.keyedvectors.Vocab object at 0x7f866f9c3670>, 'attaching': <gensim.models.keyedvectors.Vocab object at 0x7f866f9c36d0>, 'valued': <gensim.models.keyedvectors.Vocab object at 0x7f866f9c3730>, 'weights': <gensim.models.keyedvectors.Vocab object at 0x7f866f9c3790>, 'feature': <gensim.models.keyedvectors.Vocab object at 0x7f866f9c37f0>, 'embeddings': <gensim.models.keyedvectors.Vocab object at 0x7f866f9c3850>, 'networks': <gensim.models.keyedvectors.Vocab object at 0x7f866f9c38b0>, 'possible': <gensim.models.keyedvectors.Vocab object at 0x7f866f9c3910>, 'one': <gensim.models.keyedvectors.Vocab object at 0x7f866f9c3970>, 'reliable': <gensim.models.keyedvectors.Vocab object at 0x7f866f9c39d0>, 'larger': <gensim.models.keyedvectors.Vocab object at 0x7f866f9c3a30>, 'system': <gensim.models.keyedvectors.Vocab object at 0x7f866f9c3a90>, 'part': <gensim.models.keyedvectors.Vocab object at 0x7f866f9c3af0>, 'tagging': <gensim.models.keyedvectors.Vocab object at 0x7f866f9c3b50>, 'use': <gensim.models.keyedvectors.Vocab object at 0x7f866f9c3bb0>, 'especially': <gensim.models.keyedvectors.Vocab object at 0x7f866f9c3c10>, 'subtasks': <gensim.models.keyedvectors.Vocab object at 0x7f866f9c3c70>, 'turn': <gensim.models.keyedvectors.Vocab object at 0x7f866f9c3cd0>, 'largely': <gensim.models.keyedvectors.Vocab object at 0x7f866f9c3d30>, 'major': <gensim.models.keyedvectors.Vocab object at 0x7f866f9c3d90>, 'field': <gensim.models.keyedvectors.Vocab object at 0x7f866f9c3df0>, 'word': <gensim.models.keyedvectors.Vocab object at 0x7f866f9c3e50>, 'end': <gensim.models.keyedvectors.Vocab object at 0x7f866f9c3eb0>, 'higher': <gensim.models.keyedvectors.Vocab object at 0x7f866f9c3f10>, 'level': <gensim.models.keyedvectors.Vocab object at 0x7f866f9c3f70>, 'intermediate': <gensim.models.keyedvectors.Vocab object at 0x7f866f9c3fd0>, 'approaches': <gensim.models.keyedvectors.Vocab object at 0x7f866f9c4070>, 'translation': <gensim.models.keyedvectors.Vocab object at 0x7f866f9c40d0>, 'sequence': <gensim.models.keyedvectors.Vocab object at 0x7f866f9c4130>, 'applications': <gensim.models.keyedvectors.Vocab object at 0x7f866f9c4190>, 'long': <gensim.models.keyedvectors.Vocab object at 0x7f866f9c41f0>, 'standing': <gensim.models.keyedvectors.Vocab object at 0x7f866f9c4250>, 'trends': <gensim.models.keyedvectors.Vocab object at 0x7f866f9c42b0>, 'among': <gensim.models.keyedvectors.Vocab object at 0x7f866f9c4310>, 'conll': <gensim.models.keyedvectors.Vocab object at 0x7f866f9c4370>, 'shared': <gensim.models.keyedvectors.Vocab object at 0x7f866f9c43d0>, 'aspects': <gensim.models.keyedvectors.Vocab object at 0x7f866f9c4430>, 'behaviour': <gensim.models.keyedvectors.Vocab object at 0x7f866f9c4490>, 'cognitive': <gensim.models.keyedvectors.Vocab object at 0x7f866f9c44f0>, 'knowledge': <gensim.models.keyedvectors.Vocab object at 0x7f866f9c4550>, 'ties': <gensim.models.keyedvectors.Vocab object at 0x7f866f9c45b0>, 'frameworks': <gensim.models.keyedvectors.Vocab object at 0x7f866f9c4610>, 'ideas': <gensim.models.keyedvectors.Vocab object at 0x7f866f9c4670>}\n"
          ]
        }
      ]
    },
    {
      "cell_type": "code",
      "source": [
        "v1 = word2vec.wv['natural']"
      ],
      "metadata": {
        "id": "PJPs2X3dF_KZ"
      },
      "execution_count": null,
      "outputs": []
    },
    {
      "cell_type": "code",
      "source": [
        "sim_words = word2vec.wv.most_similar('language')"
      ],
      "metadata": {
        "id": "B4BosBbOGGz_"
      },
      "execution_count": null,
      "outputs": []
    },
    {
      "cell_type": "code",
      "source": [
        "print(sim_words)"
      ],
      "metadata": {
        "colab": {
          "base_uri": "https://localhost:8080/"
        },
        "id": "GbD11ed-GJMH",
        "outputId": "06c05d38-220e-411c-f602-1650cbb34227"
      },
      "execution_count": null,
      "outputs": [
        {
          "output_type": "stream",
          "name": "stdout",
          "text": [
            "[('learn', 0.24556809663772583), ('possible', 0.20807431638240814), ('chinese', 0.2073994129896164), ('rules', 0.18978872895240784), ('frequently', 0.18340691924095154), ('system', 0.1758708357810974), ('valued', 0.16966122388839722), ('translation', 0.15887925028800964), ('natural', 0.15421976149082184), ('instead', 0.14829018712043762)]\n"
          ]
        }
      ]
    },
    {
      "cell_type": "code",
      "source": [
        "sim2_words = word2vec.wv.most_similar('processing')"
      ],
      "metadata": {
        "id": "ucWmnZd5DxCR"
      },
      "execution_count": null,
      "outputs": []
    },
    {
      "cell_type": "code",
      "source": [
        "print(sim2_words)"
      ],
      "metadata": {
        "colab": {
          "base_uri": "https://localhost:8080/"
        },
        "id": "oG8rEQB6D41J",
        "outputId": "c56145a0-c491-4133-be0e-fab7622ec7d5"
      },
      "execution_count": null,
      "outputs": [
        {
          "output_type": "stream",
          "name": "stdout",
          "text": [
            "[('task', 0.2642022967338562), ('use', 0.2152405083179474), ('focused', 0.2142079919576645), ('models', 0.2135850489139557), ('word', 0.2075216919183731), ('g', 0.20183108747005463), ('end', 0.2017625868320465), ('cognitive', 0.18273691833019257), ('weights', 0.17852464318275452), ('based', 0.17408066987991333)]\n"
          ]
        }
      ]
    },
    {
      "cell_type": "markdown",
      "source": [
        "## Glove\n"
      ],
      "metadata": {
        "id": "7ojjkT9wE-w7"
      }
    },
    {
      "cell_type": "code",
      "source": [
        "import gensim.downloader\n",
        "glove_vectors = gensim.downloader.load('glove-twitter-25')\n",
        "glove_vectors.most_similar('twitter')"
      ],
      "metadata": {
        "colab": {
          "base_uri": "https://localhost:8080/"
        },
        "id": "oT7jKxvCBoex",
        "outputId": "3604e722-0d72-49e1-eb0c-e1e77b5c13f2"
      },
      "execution_count": null,
      "outputs": [
        {
          "output_type": "stream",
          "name": "stdout",
          "text": [
            "[==================================================] 100.0% 104.8/104.8MB downloaded\n"
          ]
        },
        {
          "output_type": "execute_result",
          "data": {
            "text/plain": [
              "[('facebook', 0.9480051398277283),\n",
              " ('tweet', 0.9403422474861145),\n",
              " ('fb', 0.9342358708381653),\n",
              " ('instagram', 0.9104823470115662),\n",
              " ('chat', 0.8964964747428894),\n",
              " ('hashtag', 0.8885936141014099),\n",
              " ('tweets', 0.8878157734870911),\n",
              " ('tl', 0.8778461813926697),\n",
              " ('link', 0.877821147441864),\n",
              " ('internet', 0.8753897547721863)]"
            ]
          },
          "metadata": {},
          "execution_count": 19
        }
      ]
    },
    {
      "cell_type": "code",
      "source": [
        "glove_vectors.most_similar('natural')"
      ],
      "metadata": {
        "colab": {
          "base_uri": "https://localhost:8080/"
        },
        "id": "Jyi-7VmhESl0",
        "outputId": "15270099-32ed-4754-cf87-95e47afc3ee9"
      },
      "execution_count": null,
      "outputs": [
        {
          "output_type": "execute_result",
          "data": {
            "text/plain": [
              "[('skin', 0.859667956829071),\n",
              " ('ideal', 0.8434561491012573),\n",
              " ('artificial', 0.8381508588790894),\n",
              " ('formula', 0.8186992406845093),\n",
              " ('produce', 0.8169668912887573),\n",
              " ('color', 0.8104790449142456),\n",
              " ('body', 0.8039790987968445),\n",
              " ('animal', 0.8039150834083557),\n",
              " ('flexible', 0.8015251159667969),\n",
              " ('facial', 0.7991095781326294)]"
            ]
          },
          "metadata": {},
          "execution_count": 20
        }
      ]
    },
    {
      "cell_type": "code",
      "source": [
        "glove_vectors.most_similar('language')"
      ],
      "metadata": {
        "colab": {
          "base_uri": "https://localhost:8080/"
        },
        "id": "9OhvnQBzEWgJ",
        "outputId": "654b530d-f355-4eb0-fbf5-0b9509fa5699"
      },
      "execution_count": null,
      "outputs": [
        {
          "output_type": "execute_result",
          "data": {
            "text/plain": [
              "[('translation', 0.9078460335731506),\n",
              " ('science', 0.904983401298523),\n",
              " ('dictionary', 0.8984336853027344),\n",
              " ('example', 0.8903211951255798),\n",
              " ('common', 0.8890301585197449),\n",
              " ('identity', 0.8836621642112732),\n",
              " ('related', 0.8836483955383301),\n",
              " ('based', 0.8830779194831848),\n",
              " ('reference', 0.8788478374481201),\n",
              " ('grammar', 0.8773477673530579)]"
            ]
          },
          "metadata": {},
          "execution_count": 21
        }
      ]
    }
  ]
}