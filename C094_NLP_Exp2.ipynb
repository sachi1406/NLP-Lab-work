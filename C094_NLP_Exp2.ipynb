{
  "nbformat": 4,
  "nbformat_minor": 0,
  "metadata": {
    "colab": {
      "provenance": []
    },
    "kernelspec": {
      "name": "python3",
      "display_name": "Python 3"
    },
    "language_info": {
      "name": "python"
    }
  },
  "cells": [
    {
      "cell_type": "markdown",
      "source": [
        "#NLP Exp 2 <hr>\n",
        "Name: Sachi Shah <br>\n",
        "Roll no.: C094 <br>\n",
        "Program: BTech Integrated Computers <br>\n",
        "Division: C <br>\n",
        "Date of Experiment: 09/01/2023 <br>\n",
        "Date of Submission: 13/01/2023 <br>"
      ],
      "metadata": {
        "id": "cBJ1SC-nBzh6"
      }
    },
    {
      "cell_type": "markdown",
      "source": [
        "#Task1: Web Scrapping"
      ],
      "metadata": {
        "id": "umTJ3xfj5vEB"
      }
    },
    {
      "cell_type": "code",
      "source": [
        "#NLP\n",
        "import requests \n",
        "from bs4 import BeautifulSoup \n",
        "\n",
        "URL = \"https://www.amazon.in/gp/bestsellers/books\" \n",
        "  \n",
        "r = requests.get (URL) \n",
        "soup = BeautifulSoup (r.content, 'html.parser') \n",
        "# print(soup.prettify())\n",
        "\n",
        "product_list = soup.findAll ('div', class_='a-cardui _cDEzb_grid-cell_1uMOS expandableGrid p13n-grid-content') \n",
        "\n",
        "for item in product_list:\n",
        "  for link in item.find_all ('div', class_='_cDEzb_p13n-sc-css-line-clamp-1_1Fn1y'):\n",
        "        print(link.text.strip())"
      ],
      "metadata": {
        "colab": {
          "base_uri": "https://localhost:8080/"
        },
        "id": "RbgqlZelxCPu",
        "outputId": "0e386423-cd9f-4a19-db14-bf0290f5c147"
      },
      "execution_count": null,
      "outputs": [
        {
          "output_type": "stream",
          "name": "stdout",
          "text": [
            "Energize Your Mind: Learn the Art of Mastering Your Thoughts, Feelings and Emotions\n",
            "Gaur Gopal Das\n",
            "Doglapan: The Hard Truth about Life and Start-Ups\n",
            "Ashneer Grover\n",
            "The Psychology of Money\n",
            "Morgan Housel\n",
            "Atomic Habits: The life-changing million copy bestseller [Paperback] James Clear\n",
            "James Clear\n",
            "Rohit Vaidwan\n",
            "Ikigai: The Japanese secret to a long and happy life [Hardcover] García, Héctor and Miralles, Francesc\n",
            "Héctor García\n",
            "Do It Today: Overcome procrastination, improve productivity and achieve more meaningful things [Paperback] Foroux, Darius\n",
            "Darius Foroux\n",
            "Life's Amazing Secrets: How to Find Balance and Purpose in Your Life | Inspirational Zen book on motivation, self-development & healthy living\n",
            "Gaur Gopal Das\n",
            "It Starts With Us\n",
            "Colleen Hoover\n",
            "Get Epic Shit Done\n",
            "Ankur Warikoo\n",
            "Oswaal CBSE English, Science, Social Science & Math Standard Class 10 Sample Question Paper (Set of 4 Books) for 2023 Board Exam (based on CBSE Sample Paper released on 16th September)\n",
            "Oswaal Editorial Board\n",
            "My First Library: Boxset of 10 Board Books for Kids\n",
            "Wonder House Books\n",
            "The Wisdom Bridge: Nine Principles to a Life that Echoes in the Hearts of Your Loved Ones\n",
            "Kamlesh D. Patel\n",
            "Sanjeev Sanyal\n",
            "Brijbhoomi Books And Handicrafts® Bhagavad Gita: Yatharoop\n",
            "Brijbhoomi Books And Handicrafts\n",
            "Bhagavad Gita Original in English - Bhagavad Gita as It is Original in English\n",
            "A. C. Bhaktivedanta Swami Prabhupad\n",
            "Grandma's Bag of Stories: Collection of 20+ Illustrated short stories, traditional Indian folk tales for all ages for children of all ages by Sudha Murty [Paperback] Sudha Murty\n",
            "Sudha Murty\n",
            "Brain Activity Book for Kids - 200+ Activities for Age 3+\n",
            "Maple Press\n",
            "The Power of Your Subconscious Mind\n",
            "Joseph Murphy\n",
            "Indian Polity ( English| 6th Revised Edition) | UPSC | Civil Services Exam | State Administrative Exams\n",
            "M Laxmikanth\n",
            "My First Mythology Tale (Illustrated) (Set of 5 Books) - Mahabharata, Krishna, Hanuman, Ganesha, Ramayana - Story Book for Kids - English Short Stories with Colourful Pictures - Read Aloud to Infants, Toddlers\n",
            "Maple Press\n",
            "UGC NET /SET/JRF Paper 1 Teaching and Research Aptitude - 2019- 2021 fully solved papers including Oct- Dec 2021 | Includes National Education Policy 2020| Sixth Edition| By Pearson\n",
            "KVS Madaan\n",
            "Oswaal CBSE Sample Question Papers Class 10 Science Book for 2023 Board Exam (based on CBSE Sample Paper released on 16th September)\n",
            "Oswaal Editorial Board\n",
            "Lt Gen KJS 'Tiny' Dhillon\n",
            "The Power of Your Subconscious Mind\n",
            "Joseph Murphy\n",
            "You Can\n",
            "George Matthew Adams\n",
            "Oswaal CBSE Sample Question Papers Class 10 Mathematics Standard Book for 2023 Board Exam (based on CBSE Sample Paper released on 16th September)\n",
            "Oswaal Editorial Board\n",
            "Rich Dad Poor Dad : What The Rich Teach Their Kids About Money That The Poor And Middle Class Do Not!: (25th Anniversary Edition)\n",
            "Robert T. Kiyosaki\n",
            "Examcart KVS PRT Pedagogy English Medium Textbook - Perspective on Education & Leadership for 2023 Exam (Prateek Shivalik)\n",
            "Examcart Experts\n",
            "The Almanack Of Naval Ravikant: A Guide to Wealth and Happiness\n",
            "Eric Jorgenson\n",
            "AIBE Bare Acts Combo without Notes 2023 EDITION- as per Bar Council of India Guidelines set of 18 Bare Acts covering 32 Acts - LATEST 2023 EDITION Paperback – 1 January 2023\n",
            "Professionals\n",
            "The Power of Your Subconscious Mind (PREMIUM PAPERBACK, PENGUIN INDIA)\n",
            "Joseph Murphy\n",
            "Eat That Frog!: 21 Great Ways to Stop Procrastinating and Get More Done in Less Time [Paperback] Brian Tracy\n",
            "Brian Tracy\n",
            "BlackBook of English Vocabulary January 2022\n",
            "Nikhil K Gupta\n",
            "How to Win Friends and Influence People: Original Edition | Premium Paperback\n",
            "Dale Carnegie\n",
            "Educart CBSE Class 10 Sample Paper 2023 Bundle - Science, SST, English and Mathematics Standard (4 books) 2022-23 Edubook\n",
            "Educart\n",
            "28 Years UPSC Civil Services IAS Prelims Topic-wise Solved Papers 1 & 2 (1995 - 2022) 13th Edition\n",
            "Mrunal Patel\n",
            "The Subtle Art of Not Giving a F*ck: A Counterintuitive Approach to Living a Good Life\n",
            "Mark Manson\n",
            "Oswaal CBSE Sample Question Papers Class 10 Social Science Book for 2023 Board Exam (based on CBSE Sample Paper released on 16th September)\n",
            "Oswaal Editorial Board\n",
            "TUESDAYS WITH MORRIE (EXPORT) (A FORMAT)\n",
            "Mitch Albom\n",
            "My First Book of Pencil Control : Practice Pattern Writing (Full Color Pages): Patterns Practice book for kids (Pattern Writing)\n",
            "Wonder House Books\n",
            "Man's Search For Meaning: The classic tribute to hope from the Holocaust\n",
            "Viktor E Frankl\n",
            "CBSE Chemistry Chapterwise Solved Papers Class 12th for 2023 Exam (As per Latest syllabus 2022-23)\n",
            "Shahana Ansari Reena Sharma\n",
            "The Psychology of Money + The Subtle Art of Not Giving a F*ck POD (set of 2 books)\n",
            "Morgan Housel\n",
            "As a Man Thinketh\n",
            "James Allen\n",
            "Little Colouring Books for Kids (Set of 10 Books) - Gift to children for painting, drawing and colouring - Alphabets, Animals, Birds, Flags, Flowers, ... Transport, Vegetables - 3 to 6 years old\n",
            "Maple Press\n",
            "CBSE Physics Chapterwise Solved Papers Class 12th for 2023 Exam (As per Latest syllabus 2022-23)\n",
            "SK Singh\n",
            "DO EPIC SHIT\n",
            "Ankur Warikoo\n",
            "The Alchemist\n",
            "Paulo Coelho\n"
          ]
        }
      ]
    },
    {
      "cell_type": "code",
      "source": [
        "import requests\n",
        "from bs4 import BeautifulSoup\n",
        "\n",
        "url = \"https://www.twodscapital.in/\"\n",
        "\n",
        "r = requests.get(url)\n",
        "\n",
        "soup = BeautifulSoup(r.content, \"html.parser\")\n",
        "\n",
        "h3_tags = soup.find_all(\"h3\")\n",
        "\n",
        "for h3 in h3_tags:\n",
        "    print(h3.text)\n",
        "\n",
        "print(h3.text)"
      ],
      "metadata": {
        "colab": {
          "base_uri": "https://localhost:8080/"
        },
        "id": "XdQSpJlrxCNp",
        "outputId": "192b34ae-7389-4bb4-a4f4-3f59a2c9bda9"
      },
      "execution_count": null,
      "outputs": [
        {
          "output_type": "stream",
          "name": "stdout",
          "text": [
            "Education With TWODS Capital\n",
            "One Up on Wall Street\n",
            "\n",
            "Rich Dad Poor Dad\n",
            "\n",
            "The Intelligent Investor\n",
            "\n",
            " Whale's Portfolio!\n",
            " Systematic Investment Plan\n",
            " Our Best Recommends\n",
            " Our Best Recommends\n"
          ]
        }
      ]
    },
    {
      "cell_type": "code",
      "source": [],
      "metadata": {
        "id": "JnszL7P3xBve"
      },
      "execution_count": null,
      "outputs": []
    },
    {
      "cell_type": "markdown",
      "source": [
        "#Task2: OCR"
      ],
      "metadata": {
        "id": "Ii5Gs_1154b9"
      }
    },
    {
      "cell_type": "code",
      "execution_count": null,
      "metadata": {
        "colab": {
          "base_uri": "https://localhost:8080/"
        },
        "id": "SNMLVh-hqqy5",
        "outputId": "193ecfdd-15b1-4279-99fd-24428cf958ef"
      },
      "outputs": [
        {
          "output_type": "stream",
          "name": "stdout",
          "text": [
            "Looking in indexes: https://pypi.org/simple, https://us-python.pkg.dev/colab-wheels/public/simple/\n",
            "Requirement already satisfied: pytesseract in /usr/local/lib/python3.8/dist-packages (0.3.10)\n",
            "Requirement already satisfied: packaging>=21.3 in /usr/local/lib/python3.8/dist-packages (from pytesseract) (21.3)\n",
            "Requirement already satisfied: Pillow>=8.0.0 in /usr/local/lib/python3.8/dist-packages (from pytesseract) (9.4.0)\n",
            "Requirement already satisfied: pyparsing!=3.0.5,>=2.0.2 in /usr/local/lib/python3.8/dist-packages (from packaging>=21.3->pytesseract) (3.0.9)\n",
            "Looking in indexes: https://pypi.org/simple, https://us-python.pkg.dev/colab-wheels/public/simple/\n",
            "Requirement already satisfied: opencv-python in /usr/local/lib/python3.8/dist-packages (4.6.0.66)\n",
            "Requirement already satisfied: numpy>=1.14.5 in /usr/local/lib/python3.8/dist-packages (from opencv-python) (1.21.6)\n",
            "Looking in indexes: https://pypi.org/simple, https://us-python.pkg.dev/colab-wheels/public/simple/\n",
            "Requirement already satisfied: tesseract in /usr/local/lib/python3.8/dist-packages (0.1.3)\n"
          ]
        }
      ],
      "source": [
        "!pip install pytesseract\n",
        "!pip install opencv-python\n",
        "!pip install tesseract\n"
      ]
    },
    {
      "cell_type": "code",
      "source": [
        "!sudo apt install tesseract-ocr"
      ],
      "metadata": {
        "colab": {
          "base_uri": "https://localhost:8080/"
        },
        "id": "Tfz3hTaP2dGe",
        "outputId": "81745890-09c6-462f-8af8-8b6bd55e3d74"
      },
      "execution_count": null,
      "outputs": [
        {
          "output_type": "stream",
          "name": "stdout",
          "text": [
            "Reading package lists... Done\n",
            "Building dependency tree       \n",
            "Reading state information... Done\n",
            "tesseract-ocr is already the newest version (4.00~git2288-10f4998a-2).\n",
            "The following package was automatically installed and is no longer required:\n",
            "  libnvidia-common-460\n",
            "Use 'sudo apt autoremove' to remove it.\n",
            "0 upgraded, 0 newly installed, 0 to remove and 21 not upgraded.\n"
          ]
        }
      ]
    },
    {
      "cell_type": "code",
      "source": [
        "import pytesseract\n",
        "import shutil\n",
        "import os\n",
        "import cv2\n",
        "import random\n",
        "\n",
        "try:\n",
        "  from PIL import Image\n",
        "except ImportError:\n",
        "  import Image"
      ],
      "metadata": {
        "id": "cDmSYf_0q7GI"
      },
      "execution_count": null,
      "outputs": []
    },
    {
      "cell_type": "code",
      "source": [
        "image2 = Image.open('/content/sample_image.png')\n",
        "image2"
      ],
      "metadata": {
        "colab": {
          "base_uri": "https://localhost:8080/",
          "height": 232
        },
        "id": "tVssoNpbsFex",
        "outputId": "0921f409-b420-4a95-efe0-7d8cc97fb65d"
      },
      "execution_count": null,
      "outputs": [
        {
          "output_type": "execute_result",
          "data": {
            "text/plain": [
              "<PIL.PngImagePlugin.PngImageFile image mode=RGBA size=535x215>"
            ],
            "image/png": "[encoded data removed]"
          },
          "metadata": {},
          "execution_count": 7
        }
      ]
    },
    {
      "cell_type": "code",
      "source": [
        "extractedInformation = pytesseract.image_to_string(Image.open('/content/sample_image.png'))\n",
        "print(extractedInformation)"
      ],
      "metadata": {
        "colab": {
          "base_uri": "https://localhost:8080/"
        },
        "id": "hyDpiBPd0hKj",
        "outputId": "bc12dad7-fd3e-4ee3-d825-5ca6ccc344cb"
      },
      "execution_count": null,
      "outputs": [
        {
          "output_type": "stream",
          "name": "stdout",
          "text": [
            "This is the first line of\n",
            "this text example.\n",
            "\n",
            "This is the second line\n",
            "of the same text.\n",
            "\f\n"
          ]
        }
      ]
    },
    {
      "cell_type": "markdown",
      "source": [
        "#B.2: Observations and Learning: <br>\n",
        "I was able to learn and do web scrapping for text data using beautiful soup for amazon best-selling books and extracted text from images.\n",
        "\n",
        "Understood what beautiful soup is: Beautiful Soup provides simple methods for navigating, searching, and modifying a parse tree in HTML, XML files. It transforms a complex HTML document into a tree of Python objects. It also automatically converts the document to Unicode, so you don’t have to think about encodings. This tool not only helps you scrape but also to clean the data. Beautiful Soup supports the HTML parser included in Python’s standard library, but it also supports several third-party Python parsers like lxml or hml5lib. "
      ],
      "metadata": {
        "id": "OkMmmyW6CAOD"
      }
    },
    {
      "cell_type": "markdown",
      "source": [
        "#B.3 Conclusion:<br>\n",
        "I was successfully able to scrap text data using beautiful soup for amazon best selling books and using NLP techniques to Extract text from images."
      ],
      "metadata": {
        "id": "w9vbgikbCD6u"
      }
    },
    {
      "cell_type": "markdown",
      "source": [
        "#B.4 Question of curiosity:<br>\n",
        "\n",
        "1. <b> How does one parse the HTML into a BeautifulSoup object given a response object?</b><br>\n",
        "Ans: BeautifulSoup() function helps us to parse the html file or you say the encoding in html.\n",
        "htmlParse = BeautifulSoup(page.content, 'html.parser')\n",
        "<br>\n",
        "\n",
        "2. <b> Given that soup.find_all(class_='items') returns a list, in order to get the first item, all you need to do is index. ( True/False)</b><br>\n",
        "Ans: True\n",
        "<br>\n",
        "\n",
        "3. <b> Given the below html, how would this tag type be described in web scraping code?</b><br>\n",
        "Ans: 'h1', class_='sports'\n",
        "<br>\n",
        "\n",
        "4. <b> List 3 Disadvantages of using Tesseract</b><br>\n",
        "Ans: \n",
        "- Poor quality scans may produce poor quality OCR.\n",
        "- It does not expose information about what font family text belongs to.\n",
        "- The OCR is not as accurate as some commercial solutions available to us."
      ],
      "metadata": {
        "id": "Ml0abDsxCGeS"
      }
    }
  ]
}