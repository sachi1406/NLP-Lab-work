{
  "nbformat": 4,
  "nbformat_minor": 0,
  "metadata": {
    "colab": {
      "provenance": []
    },
    "kernelspec": {
      "name": "python3",
      "display_name": "Python 3"
    },
    "language_info": {
      "name": "python"
    }
  },
  "cells": [
    {
      "cell_type": "markdown",
      "source": [
        "#NLP Exp 4 <hr>\n",
        "Name: Sachi Shah <br>\n",
        "Roll no.: C094 <br>\n",
        "Program: BTech Integrated Computers <br>\n",
        "Division: C <br>\n",
        "Date of Experiment: 23/01/2023 <br>\n",
        "Date of Submission: 23/01/2023 <br>\n",
        "\n",
        "<br>\n",
        "<br>"
      ],
      "metadata": {
        "id": "Ky2SAChJ7K9V"
      }
    },
    {
      "cell_type": "markdown",
      "source": [
        "#Feature Engineering \n"
      ],
      "metadata": {
        "id": "VJwe847-3Dpg"
      }
    },
    {
      "cell_type": "markdown",
      "source": [
        "##Task 1: Do Web Scrapping and implement feature engineering on the same."
      ],
      "metadata": {
        "id": "yKEDePje4f4G"
      }
    },
    {
      "cell_type": "code",
      "source": [
        "#NLP\n",
        "import requests \n",
        "from bs4 import BeautifulSoup \n",
        "\n",
        "URL = \"https://www.amazon.in/gp/bestsellers/books\" \n",
        "  \n",
        "r = requests.get (URL) \n",
        "soup = BeautifulSoup (r.content, 'html.parser') \n",
        "# print(soup.prettify())\n",
        "\n",
        "product_list = soup.findAll ('div', class_='a-cardui _cDEzb_grid-cell_1uMOS expandableGrid p13n-grid-content') \n",
        "\n",
        "for item in product_list:\n",
        "  for link in item.find_all ('div', class_='_cDEzb_p13n-sc-css-line-clamp-1_1Fn1y'):\n",
        "        print(link.text.strip())"
      ],
      "metadata": {
        "colab": {
          "base_uri": "https://localhost:8080/"
        },
        "id": "50zFguEN46uH",
        "outputId": "d677a106-c861-4715-c285-05336a0cec20"
      },
      "execution_count": null,
      "outputs": [
        {
          "output_type": "stream",
          "name": "stdout",
          "text": [
            "KVS Pedagogy Master Book (Bilingual) Theory with Practice MCQ's\n",
            "Rohit Vaidwan\n",
            "Energize Your Mind: Learn the Art of Mastering Your Thoughts, Feelings and Emotions\n",
            "Gaur Gopal Das\n",
            "Atomic Habits: The life-changing million copy bestseller [Paperback] James Clear\n",
            "James Clear\n",
            "The Psychology of Money\n",
            "Morgan Housel\n",
            "Doglapan: The Hard Truth about Life and Start-Ups\n",
            "Ashneer Grover\n",
            "Ikigai: The Japanese secret to a long and happy life [Hardcover] García, Héctor and Miralles, Francesc\n",
            "Héctor García\n",
            "Do It Today: Overcome procrastination, improve productivity and achieve more meaningful things [Paperback] Foroux, Darius\n",
            "Darius Foroux\n",
            "My First Library: Boxset of 10 Board Books for Kids\n",
            "Wonder House Books\n",
            "Life's Amazing Secrets: How to Find Balance and Purpose in Your Life | Inspirational Zen book on motivation, self-development & healthy living\n",
            "Gaur Gopal Das\n",
            "How to Win Friends and Influence People: Original Edition | Premium Paperback\n",
            "Dale Carnegie\n",
            "Brain Activity Book for Kids - 200+ Activities for Age 3+\n",
            "Maple Press\n",
            "The Tiger of Drass: Anuj Nayyar, 23, Kargil Hero\n",
            "Meena Nayyar\n",
            "The Power of Your Subconscious Mind\n",
            "Joseph Murphy\n",
            "Brijbhoomi Books And Handicrafts® Bhagavad Gita: Yatharoop\n",
            "Brijbhoomi Books And Handicrafts\n",
            "My First Mythology Tale (Illustrated) (Set of 5 Books) - Mahabharata, Krishna, Hanuman, Ganesha, Ramayana - Story Book for Kids - English Short Stories with Colourful Pictures - Read Aloud to Infants, Toddlers\n",
            "Maple Press\n",
            "The Song Of The Cell: An Exploration Of Medicine And The New Human\n",
            "Siddhartha Mukherjee\n",
            "Oswaal CBSE English, Science, Social Science & Math Standard Class 10 Sample Question Paper (Set of 4 Books) for 2023 Board Exam (based on CBSE Sample Paper released on 16th September)\n",
            "Oswaal Editorial Board\n",
            "Indian Polity ( English| 6th Revised Edition) | UPSC | Civil Services Exam | State Administrative Exams\n",
            "M Laxmikanth\n",
            "It Ends With Us: A Novel: Volume 1\n",
            "Colleen Hoover\n",
            "Kunex Combo Books of \"It Starts With Us & It Ends With Us\"\n",
            "Kunex\n",
            "AIBE Bare Acts Combo without Notes 2023 EDITION- as per Bar Council of India Guidelines set of 22 Bare Acts covering 50 Acts COMPLETE SYLLABUS - LATEST 2023 EDITION Paperback – 1 January 2023\n",
            "All India Bar\n",
            "Oswaal CBSE Sample Question Papers Class 10 Science Book for 2023 Board Exam (based on CBSE Sample Paper released on 16th September)\n",
            "Oswaal Editorial Board\n",
            "It Starts With Us\n",
            "Colleen Hoover\n",
            "AIBE (All India Bar Examination) Bare Acts without Short Notes, Total Set of 19 Books, Latest Edition with up to date amendments as per bar council of ... Official Amazon Selling Partner automateB\n",
            "Lawmann's\n",
            "Grandma's Bag of Stories: Collection of 20+ Illustrated short stories, traditional Indian folk tales for all ages for children of all ages by Sudha Murty [Paperback] Sudha Murty\n",
            "Sudha Murty\n",
            "Sapiens: A Brief History of Humankind\n",
            "Yuval Noah Harari\n",
            "AIBE Bare Acts Combo without Notes 2023 EDITION- as per Bar Council of India Guidelines set of 18 Bare Acts covering 32 Acts - LATEST 2023 EDITION Paperback – 1 January 2023\n",
            "Professionals\n",
            "You Can\n",
            "George Matthew Adams\n",
            "Get Epic Shit Done\n",
            "Ankur Warikoo\n",
            "Kunex It Starts With Us + It Ends With Us: A Novel: Volume 1 (Set of 2 Book\n",
            "Kunex\n",
            "Educart CBSE Class 10 Sample Paper 2023 Bundle - Science, SST, English and Mathematics Standard (4 books) 2022-23 Edubook\n",
            "Educart\n",
            "My First Book of Pencil Control : Practice Pattern Writing (Full Color Pages): Patterns Practice book for kids (Pattern Writing)\n",
            "Wonder House Books\n",
            "How to Win Friends and Influence People [Original Edition (Complete), PREMIUM PAPERBACK]\n",
            "Dale Carnegie\n",
            "The Power of Your Subconscious Mind\n",
            "Joseph Murphy\n",
            "Rich Dad Poor Dad : What The Rich Teach Their Kids About Money That The Poor And Middle Class Do Not!: (25th Anniversary Edition)\n",
            "Robert T. Kiyosaki\n",
            "Little Colouring Books for Kids (Set of 10 Books) - Gift to children for painting, drawing and colouring - Alphabets, Animals, Birds, Flags, Flowers, ... Transport, Vegetables - 3 to 6 years old\n",
            "Maple Press\n",
            "KVS MASTER PRT TGT PGT | Bilingual Book | Rohit Vaidwan | Adhyayan Mantra\n",
            "Rohit Vaidwan\n",
            "Oswaal CBSE Sample Question Papers Class 10 Mathematics Standard Book for 2023 Board Exam (based on CBSE Sample Paper released on 16th September)\n",
            "Oswaal Editorial Board\n",
            "War of Lanka (Ram Chandra Series Book 4)\n",
            "Amish Tripathi\n",
            "28 Years UPSC Civil Services IAS Prelims Topic-wise Solved Papers 1 & 2 (1995 - 2022) 13th Edition\n",
            "Mrunal Patel\n",
            "Oxford Student Atlas for India, Fourth Edition - Useful for Competitive Exams\n",
            "Oxford University Press\n",
            "Oswal - Gurukul Last Years 10 Solved Papers for CBSE Class 10 Exam 2023 - Yearwise Board Solutions of Math Standard, English, Science & Social Science (All Sets Delhi & Outside), Latest Syllabus\n",
            "Oswal - Gurukul\n",
            "Moral Story Books for Kids (Set of 10 Books) (Illustrated) - English Short Stories with Colourful Pictures - Bedtime Children Story Book - 3 Years to 6 Years Old Children - Read Aloud to Infants, Toddlers\n",
            "Maple Press\n",
            "Examcart KVS PRT Pedagogy English Medium Textbook - Perspective on Education & Leadership for 2023 Exam (Prateek Shivalik)\n",
            "Examcart Experts\n",
            "Educart CBSE Class 10 SCIENCE Sample Papers 2023 (With Exclusive Topper Answers and Marks breakdown for 2022-23) Edubook\n",
            "Educart\n",
            "The Power of Your Subconscious Mind (PREMIUM PAPERBACK, PENGUIN INDIA)\n",
            "Joseph Murphy\n",
            "BlackBook of English Vocabulary January 2022\n",
            "Nikhil K Gupta\n",
            "Bhagvad Gita - As It Is\n",
            "His Divine Grace A.C. Bhaktivedanta Swami Prabhupada\n",
            "Word Power Made Easy [Paperback] Norman Lewis\n",
            "Norman Lewis\n",
            "The Subtle Art of Not Giving a F*ck: A Counterintuitive Approach to Living a Good Life\n",
            "Mark Manson\n"
          ]
        }
      ]
    },
    {
      "cell_type": "markdown",
      "source": [
        "##Task 2: Take any raw text as your corpus and implement feature engineering on the same."
      ],
      "metadata": {
        "id": "diMuRya24iUP"
      }
    },
    {
      "cell_type": "markdown",
      "source": [
        "###One hot encoding"
      ],
      "metadata": {
        "id": "5cbk4nIM4c9m"
      }
    },
    {
      "cell_type": "code",
      "source": [
        "# creating a document\n",
        "documents = [\"Dog bites man.\", \"Man bites dog.\", \"Dog eats meat.\", \"Man eats food.\"]\n",
        "# converting to lower case and replacing fullstops \n",
        "\n",
        "processed_docs = [doc.lower().replace(\".\",\"\") for doc in documents]\n",
        "processed_docs\n"
      ],
      "metadata": {
        "colab": {
          "base_uri": "https://localhost:8080/"
        },
        "id": "eCkYjvRD1I05",
        "outputId": "9ae34069-eecb-4ef2-c78d-03a7b61930b6"
      },
      "execution_count": null,
      "outputs": [
        {
          "output_type": "execute_result",
          "data": {
            "text/plain": [
              "['dog bites man', 'man bites dog', 'dog eats meat', 'man eats food']"
            ]
          },
          "metadata": {},
          "execution_count": 1
        }
      ]
    },
    {
      "cell_type": "code",
      "source": [
        "#Build the vocabulary\n",
        "vocab = {}\n",
        "count = 0\n",
        "for doc in processed_docs:\n",
        "    for word in doc.split():\n",
        "        if word not in vocab:\n",
        "            count = count +1\n",
        "            vocab[word] = count\n",
        "print(vocab)\n",
        "{'dog': 1, 'bites': 2, 'man': 3, 'eats': 4, 'meat': 5, 'food': 6}\n",
        "\n",
        "\n",
        "#Get one hot representation for any string based on this vocabulary. #If the word exists in the vocabulary, its representation is returned. #If not, a list of zeroes is returned for that word. \n",
        "def get_onehot_vector(somestring):\n",
        "    onehot_encoded = []\n",
        "    for word in somestring.split():\n",
        "        temp = [0]*len(vocab)\n",
        "        if word in vocab:\n",
        "            temp[vocab[word]-1] = 1 # -1 is to take care of the fact indexing in array starts from 0 and not 1\n",
        "        onehot_encoded.append(temp)\n",
        "    return onehot_encoded\n",
        "\n",
        "print(processed_docs[1])\n",
        "\n",
        "get_onehot_vector(processed_docs[1]) #one hot representation for a text from our corpus.man bites dog\n"
      ],
      "metadata": {
        "colab": {
          "base_uri": "https://localhost:8080/"
        },
        "id": "oPiQcJWs1PT4",
        "outputId": "022b9096-fb73-418e-9521-4093ba75574f"
      },
      "execution_count": null,
      "outputs": [
        {
          "output_type": "stream",
          "name": "stdout",
          "text": [
            "{'dog': 1, 'bites': 2, 'man': 3, 'eats': 4, 'meat': 5, 'food': 6}\n",
            "man bites dog\n"
          ]
        },
        {
          "output_type": "execute_result",
          "data": {
            "text/plain": [
              "[[0, 0, 1, 0, 0, 0], [0, 1, 0, 0, 0, 0], [1, 0, 0, 0, 0, 0]]"
            ]
          },
          "metadata": {},
          "execution_count": 2
        }
      ]
    },
    {
      "cell_type": "code",
      "source": [
        "get_onehot_vector(\"man and dog are good\") "
      ],
      "metadata": {
        "colab": {
          "base_uri": "https://localhost:8080/"
        },
        "id": "uBCg_5JY1rQ4",
        "outputId": "eb90cfa2-c7c5-40d8-afbe-9d693d8a87ab"
      },
      "execution_count": null,
      "outputs": [
        {
          "output_type": "execute_result",
          "data": {
            "text/plain": [
              "[[0, 0, 1, 0, 0, 0],\n",
              " [0, 0, 0, 0, 0, 0],\n",
              " [1, 0, 0, 0, 0, 0],\n",
              " [0, 0, 0, 0, 0, 0],\n",
              " [0, 0, 0, 0, 0, 0]]"
            ]
          },
          "metadata": {},
          "execution_count": 3
        }
      ]
    },
    {
      "cell_type": "code",
      "source": [
        "get_onehot_vector(\"man and man are good\") "
      ],
      "metadata": {
        "colab": {
          "base_uri": "https://localhost:8080/"
        },
        "id": "v9MX50G71xiw",
        "outputId": "ac53b787-dafb-469b-e260-a04f9c35d46f"
      },
      "execution_count": null,
      "outputs": [
        {
          "output_type": "execute_result",
          "data": {
            "text/plain": [
              "[[0, 0, 1, 0, 0, 0],\n",
              " [0, 0, 0, 0, 0, 0],\n",
              " [0, 0, 1, 0, 0, 0],\n",
              " [0, 0, 0, 0, 0, 0],\n",
              " [0, 0, 0, 0, 0, 0]]"
            ]
          },
          "metadata": {},
          "execution_count": 4
        }
      ]
    },
    {
      "cell_type": "markdown",
      "source": [
        "###One-hot encoding using scikit -learn"
      ],
      "metadata": {
        "id": "qMo7vp422Qk6"
      }
    },
    {
      "cell_type": "code",
      "source": [
        "\n",
        "S1 = 'dog bites man'\n",
        "S2 = 'man bites dog'\n",
        "S3 = 'dog eats meat'\n",
        "S4 = 'man eats food'\n"
      ],
      "metadata": {
        "id": "UW4v_oaj11TI"
      },
      "execution_count": null,
      "outputs": []
    },
    {
      "cell_type": "code",
      "source": [
        "from sklearn.preprocessing import LabelEncoder, OneHotEncoder\n",
        "\n",
        "data = [S1.split(), S2.split(), S3.split(), S4.split()]\n",
        "values = data[0]+data[1]+data[2]+data[3]\n",
        "print(\"The data: \",values)\n",
        "\n",
        "#Label Encoding\n",
        "label_encoder = LabelEncoder()\n",
        "integer_encoded = label_encoder.fit_transform(values)\n",
        "print(\"Label Encoded:\",integer_encoded)\n",
        "\n",
        "#One-Hot Encoding\n",
        "onehot_encoder = OneHotEncoder()\n",
        "onehot_encoded = onehot_encoder.fit_transform(data).toarray()\n",
        "print(\"Onehot Encoded Matrix:\\n\",onehot_encoded)\n",
        "\n",
        "# The data:  ['dog', 'bites', 'man', 'man', 'bites', 'dog', 'dog', 'eats', 'meat', 'man', 'eats', 'food']\n",
        "# Label Encoded: [1 0 4 4 0 1 1 2 5 4 2 3]\n",
        "# Onehot Encoded Matrix:\n",
        "#  [[1. 0. 1. 0. 0. 0. 1. 0.]\n",
        "#  [0. 1. 1. 0. 1. 0. 0. 0.]\n",
        "#  [1. 0. 0. 1. 0. 0. 0. 1.]\n",
        "#  [0. 1. 0. 1. 0. 1. 0. 0.]]\n"
      ],
      "metadata": {
        "colab": {
          "base_uri": "https://localhost:8080/"
        },
        "id": "r-1qu4Pg16UQ",
        "outputId": "de073c31-fc9d-4693-efbc-d09d0c08a85c"
      },
      "execution_count": null,
      "outputs": [
        {
          "output_type": "stream",
          "name": "stdout",
          "text": [
            "The data:  ['dog', 'bites', 'man', 'man', 'bites', 'dog', 'dog', 'eats', 'meat', 'man', 'eats', 'food']\n",
            "Label Encoded: [1 0 4 4 0 1 1 2 5 4 2 3]\n",
            "Onehot Encoded Matrix:\n",
            " [[1. 0. 1. 0. 0. 0. 1. 0.]\n",
            " [0. 1. 1. 0. 1. 0. 0. 0.]\n",
            " [1. 0. 0. 1. 0. 0. 0. 1.]\n",
            " [0. 1. 0. 1. 0. 1. 0. 0.]]\n"
          ]
        }
      ]
    },
    {
      "cell_type": "markdown",
      "source": [
        "###Bag of Words"
      ],
      "metadata": {
        "id": "RPeYmUSX2Yro"
      }
    },
    {
      "cell_type": "code",
      "source": [
        "from sklearn.feature_extraction.text import CountVectorizer\n",
        "\n",
        "#look at the documents list\n",
        "print(\"Our corpus: \", processed_docs)\n",
        "\n",
        "count_vect = CountVectorizer()\n",
        "#Build a BOW representation for the corpus\n",
        "bow_rep = count_vect.fit_transform(processed_docs)\n",
        "\n",
        "#Look at the vocabulary mapping\n",
        "print(\"Our vocabulary: \", count_vect.vocabulary_)\n",
        "\n",
        "#see the BOW rep for first 2 documents\n",
        "print(\"BoW representation for 'dog bites man': \", bow_rep[0].toarray())\n",
        "print(\"BoW representation for 'man bites dog: \",bow_rep[1].toarray())\n",
        "\n",
        "#Get the representation using this vocabulary, for a new text\n",
        "temp = count_vect.transform([\"dog and dog are friends\"])\n",
        "print(\"Bow representation for 'dog and dog are friends':\", temp.toarray())\n"
      ],
      "metadata": {
        "colab": {
          "base_uri": "https://localhost:8080/"
        },
        "id": "jP5P_jmN2c8p",
        "outputId": "ed2eabd0-55c5-4d6a-e6eb-b379ec32c5bb"
      },
      "execution_count": null,
      "outputs": [
        {
          "output_type": "stream",
          "name": "stdout",
          "text": [
            "Our corpus:  ['dog bites man', 'man bites dog', 'dog eats meat', 'man eats food']\n",
            "Our vocabulary:  {'dog': 1, 'bites': 0, 'man': 4, 'eats': 2, 'meat': 5, 'food': 3}\n",
            "BoW representation for 'dog bites man':  [[1 1 0 0 1 0]]\n",
            "BoW representation for 'man bites dog:  [[1 1 0 0 1 0]]\n",
            "Bow representation for 'dog and dog are friends': [[0 2 0 0 0 0]]\n"
          ]
        }
      ]
    },
    {
      "cell_type": "markdown",
      "source": [
        "###Bag of N grams"
      ],
      "metadata": {
        "id": "wBTKyTY52mjy"
      }
    },
    {
      "cell_type": "code",
      "source": [
        "from sklearn.feature_extraction.text import CountVectorizer\n",
        "\n",
        "#Ngram vectorization example with count vectorizer and uni, bi, trigrams\n",
        "count_vect = CountVectorizer(ngram_range=(1,3))\n",
        "\n",
        "#Build a BOW representation for the corpus\n",
        "bow_rep = count_vect.fit_transform(processed_docs)\n",
        "\n",
        "#Look at the vocabulary mapping\n",
        "print(\"Our vocabulary: \", count_vect.vocabulary_)\n",
        "\n",
        "#see the BOW rep for first 2 documents\n",
        "print(\"BoW representation for 'dog bites man': \", bow_rep[0].toarray())\n",
        "print(\"BoW representation for 'man bites dog: \",bow_rep[1].toarray())\n",
        "\n",
        "#Get the representation using this vocabulary, for a new text\n",
        "temp = count_vect.transform([\"dog and dog are friends\"])\n",
        "\n",
        "print(\"Bow representation for 'dog and dog are friends':\", temp.toarray())\n"
      ],
      "metadata": {
        "colab": {
          "base_uri": "https://localhost:8080/"
        },
        "id": "AdAJKPIv2pLK",
        "outputId": "c1d9cf91-2453-470a-a501-b6fa13311559"
      },
      "execution_count": null,
      "outputs": [
        {
          "output_type": "stream",
          "name": "stdout",
          "text": [
            "Our vocabulary:  {'dog': 3, 'bites': 0, 'man': 12, 'dog bites': 4, 'bites man': 2, 'dog bites man': 5, 'man bites': 13, 'bites dog': 1, 'man bites dog': 14, 'eats': 8, 'meat': 17, 'dog eats': 6, 'eats meat': 10, 'dog eats meat': 7, 'food': 11, 'man eats': 15, 'eats food': 9, 'man eats food': 16}\n",
            "BoW representation for 'dog bites man':  [[1 0 1 1 1 1 0 0 0 0 0 0 1 0 0 0 0 0]]\n",
            "BoW representation for 'man bites dog:  [[1 1 0 1 0 0 0 0 0 0 0 0 1 1 1 0 0 0]]\n",
            "Bow representation for 'dog and dog are friends': [[0 0 0 2 0 0 0 0 0 0 0 0 0 0 0 0 0 0]]\n"
          ]
        }
      ]
    },
    {
      "cell_type": "markdown",
      "source": [
        "###TF-IDF"
      ],
      "metadata": {
        "id": "xNUtNEZe2zOF"
      }
    },
    {
      "cell_type": "code",
      "source": [
        "from sklearn.feature_extraction.text import TfidfVectorizer\n",
        "\n",
        "tfidf = TfidfVectorizer()\n",
        "bow_rep_tfidf = tfidf.fit_transform(processed_docs)\n",
        "\n",
        "#IDF for all words in the vocabulary\n",
        "print(\"IDF for all words in the vocabulary\",tfidf.idf_)\n",
        "print(\"-\"*10)\n",
        "#All words in the vocabulary.\n",
        "print(\"All words in the vocabulary\",tfidf.get_feature_names())\n",
        "print(\"-\"*10)\n",
        "\n",
        "#TFIDF representation for all documents in our corpus \n",
        "print(\"TFIDF representation for all documents in our corpus\\n\",bow_rep_tfidf.toarray()) \n",
        "print(\"-\"*10)\n",
        "\n",
        "temp = tfidf.transform([\"dog and man are friends\"])\n",
        "print(\"Tfidf representation for 'dog and man are friends':\\n\", temp.toarray())\n"
      ],
      "metadata": {
        "colab": {
          "base_uri": "https://localhost:8080/"
        },
        "id": "adCFL4ci23Gm",
        "outputId": "0fd88346-1c6b-4fc5-ff61-7a878bb0fcc2"
      },
      "execution_count": null,
      "outputs": [
        {
          "output_type": "stream",
          "name": "stdout",
          "text": [
            "IDF for all words in the vocabulary [1.51082562 1.22314355 1.51082562 1.91629073 1.22314355 1.91629073]\n",
            "----------\n",
            "All words in the vocabulary ['bites', 'dog', 'eats', 'food', 'man', 'meat']\n",
            "----------\n",
            "TFIDF representation for all documents in our corpus\n",
            " [[0.65782931 0.53256952 0.         0.         0.53256952 0.        ]\n",
            " [0.65782931 0.53256952 0.         0.         0.53256952 0.        ]\n",
            " [0.         0.44809973 0.55349232 0.         0.         0.70203482]\n",
            " [0.         0.         0.55349232 0.70203482 0.44809973 0.        ]]\n",
            "----------\n",
            "Tfidf representation for 'dog and man are friends':\n",
            " [[0.         0.70710678 0.         0.         0.70710678 0.        ]]\n"
          ]
        },
        {
          "output_type": "stream",
          "name": "stderr",
          "text": [
            "/usr/local/lib/python3.8/dist-packages/sklearn/utils/deprecation.py:87: FutureWarning: Function get_feature_names is deprecated; get_feature_names is deprecated in 1.0 and will be removed in 1.2. Please use get_feature_names_out instead.\n",
            "  warnings.warn(msg, category=FutureWarning)\n"
          ]
        }
      ]
    }
  ]
}