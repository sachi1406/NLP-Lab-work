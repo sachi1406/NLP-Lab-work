{
  "metadata": {
    "kernelspec": {
      "language": "python",
      "display_name": "Python 3",
      "name": "python3"
    },
    "language_info": {
      "pygments_lexer": "ipython3",
      "nbconvert_exporter": "python",
      "version": "3.6.4",
      "file_extension": ".py",
      "codemirror_mode": {
        "name": "ipython",
        "version": 3
      },
      "name": "python",
      "mimetype": "text/x-python"
    },
    "colab": {
      "provenance": []
    }
  },
  "nbformat_minor": 0,
  "nbformat": 4,
  "cells": [
    {
      "cell_type": "markdown",
      "source": [
        "#NLP Exp 9 <hr>\n",
        "Name: Sachi Shah <br>\n",
        "Roll no.: C094 <br>\n",
        "Program: BTech Integrated Computers <br>\n",
        "Division: C <br>\n",
        "Date of Experiment: 27/03/2023 <br>\n",
        "Date of Submission: 30/03/2023 <br>\n",
        "<br>\n",
        "Aim: Stock Price Prediction RNN "
      ],
      "metadata": {
        "id": "INXZ6wCYeqXN"
      }
    },
    {
      "cell_type": "markdown",
      "source": [
        "#B1: Tasks to be performed"
      ],
      "metadata": {
        "id": "xsJ6WKdefEAG"
      }
    },
    {
      "cell_type": "code",
      "source": [
        "pip install yfinance"
      ],
      "metadata": {
        "_uuid": "879b14c2-10ab-4a87-afe5-b077c8e3bd89",
        "_cell_guid": "376d2b6e-eb79-4f47-b73d-de4839e05ee7",
        "jupyter": {
          "outputs_hidden": false
        },
        "execution": {
          "iopub.status.busy": "2021-06-22T08:29:17.820512Z",
          "iopub.execute_input": "2021-06-22T08:29:17.820872Z",
          "iopub.status.idle": "2021-06-22T08:29:28.179917Z",
          "shell.execute_reply.started": "2021-06-22T08:29:17.820842Z",
          "shell.execute_reply": "2021-06-22T08:29:28.17877Z"
        },
        "trusted": true,
        "colab": {
          "base_uri": "https://localhost:8080/"
        },
        "id": "goklo5OSPiTx",
        "outputId": "c7800749-79fc-48a2-984c-b4eccabeabf9"
      },
      "execution_count": null,
      "outputs": [
        {
          "output_type": "stream",
          "name": "stdout",
          "text": [
            "Looking in indexes: https://pypi.org/simple, https://us-python.pkg.dev/colab-wheels/public/simple/\n",
            "Requirement already satisfied: yfinance in /usr/local/lib/python3.9/dist-packages (0.2.13)\n",
            "Requirement already satisfied: frozendict>=2.3.4 in /usr/local/lib/python3.9/dist-packages (from yfinance) (2.3.6)\n",
            "Requirement already satisfied: pandas>=1.3.0 in /usr/local/lib/python3.9/dist-packages (from yfinance) (1.4.4)\n",
            "Requirement already satisfied: multitasking>=0.0.7 in /usr/local/lib/python3.9/dist-packages (from yfinance) (0.0.11)\n",
            "Requirement already satisfied: requests>=2.26 in /usr/local/lib/python3.9/dist-packages (from yfinance) (2.27.1)\n",
            "Requirement already satisfied: lxml>=4.9.1 in /usr/local/lib/python3.9/dist-packages (from yfinance) (4.9.2)\n",
            "Requirement already satisfied: beautifulsoup4>=4.11.1 in /usr/local/lib/python3.9/dist-packages (from yfinance) (4.11.2)\n",
            "Requirement already satisfied: cryptography>=3.3.2 in /usr/local/lib/python3.9/dist-packages (from yfinance) (39.0.2)\n",
            "Requirement already satisfied: numpy>=1.16.5 in /usr/local/lib/python3.9/dist-packages (from yfinance) (1.22.4)\n",
            "Requirement already satisfied: appdirs>=1.4.4 in /usr/local/lib/python3.9/dist-packages (from yfinance) (1.4.4)\n",
            "Requirement already satisfied: pytz>=2022.5 in /usr/local/lib/python3.9/dist-packages (from yfinance) (2022.7.1)\n",
            "Requirement already satisfied: html5lib>=1.1 in /usr/local/lib/python3.9/dist-packages (from yfinance) (1.1)\n",
            "Requirement already satisfied: soupsieve>1.2 in /usr/local/lib/python3.9/dist-packages (from beautifulsoup4>=4.11.1->yfinance) (2.4)\n",
            "Requirement already satisfied: cffi>=1.12 in /usr/local/lib/python3.9/dist-packages (from cryptography>=3.3.2->yfinance) (1.15.1)\n",
            "Requirement already satisfied: six>=1.9 in /usr/local/lib/python3.9/dist-packages (from html5lib>=1.1->yfinance) (1.16.0)\n",
            "Requirement already satisfied: webencodings in /usr/local/lib/python3.9/dist-packages (from html5lib>=1.1->yfinance) (0.5.1)\n",
            "Requirement already satisfied: python-dateutil>=2.8.1 in /usr/local/lib/python3.9/dist-packages (from pandas>=1.3.0->yfinance) (2.8.2)\n",
            "Requirement already satisfied: certifi>=2017.4.17 in /usr/local/lib/python3.9/dist-packages (from requests>=2.26->yfinance) (2022.12.7)\n",
            "Requirement already satisfied: urllib3<1.27,>=1.21.1 in /usr/local/lib/python3.9/dist-packages (from requests>=2.26->yfinance) (1.26.15)\n",
            "Requirement already satisfied: idna<4,>=2.5 in /usr/local/lib/python3.9/dist-packages (from requests>=2.26->yfinance) (3.4)\n",
            "Requirement already satisfied: charset-normalizer~=2.0.0 in /usr/local/lib/python3.9/dist-packages (from requests>=2.26->yfinance) (2.0.12)\n",
            "Requirement already satisfied: pycparser in /usr/local/lib/python3.9/dist-packages (from cffi>=1.12->cryptography>=3.3.2->yfinance) (2.21)\n"
          ]
        }
      ]
    },
    {
      "cell_type": "code",
      "source": [
        "import yfinance as yf"
      ],
      "metadata": {
        "_uuid": "3e4e512d-732c-4783-af55-1c91fd205b7f",
        "_cell_guid": "95055c8b-8c24-4b82-9a76-5653d4ff037c",
        "jupyter": {
          "outputs_hidden": false
        },
        "execution": {
          "iopub.status.busy": "2021-06-22T08:29:34.464993Z",
          "iopub.execute_input": "2021-06-22T08:29:34.46534Z",
          "iopub.status.idle": "2021-06-22T08:29:34.475828Z",
          "shell.execute_reply.started": "2021-06-22T08:29:34.465305Z",
          "shell.execute_reply": "2021-06-22T08:29:34.47502Z"
        },
        "trusted": true,
        "id": "8gK6BrVzPiTz"
      },
      "execution_count": null,
      "outputs": []
    },
    {
      "cell_type": "code",
      "source": [
        "import pandas as pd\n",
        "import numpy as np\n",
        "import tensorflow as tf\n",
        "import matplotlib.pyplot as plt\n",
        "%matplotlib inline"
      ],
      "metadata": {
        "_uuid": "5019e05d-334e-4683-b083-4c6ea64355c2",
        "_cell_guid": "295b63bb-466a-47d9-b7a7-eee16b2c448f",
        "jupyter": {
          "outputs_hidden": false
        },
        "execution": {
          "iopub.status.busy": "2021-06-22T08:29:37.872056Z",
          "iopub.execute_input": "2021-06-22T08:29:37.872383Z",
          "iopub.status.idle": "2021-06-22T08:29:43.727257Z",
          "shell.execute_reply.started": "2021-06-22T08:29:37.872354Z",
          "shell.execute_reply": "2021-06-22T08:29:43.726375Z"
        },
        "trusted": true,
        "id": "9Ct_S8rtPiTz"
      },
      "execution_count": null,
      "outputs": []
    },
    {
      "cell_type": "code",
      "source": [
        "data = yf.download('ESCORTS.NS',period='5y',interval='1d')"
      ],
      "metadata": {
        "_uuid": "e783d7cb-8e0a-484d-a3e4-98d347cca6ad",
        "_cell_guid": "e1957e69-9cbf-4cbd-a91e-76669fb1afb6",
        "jupyter": {
          "outputs_hidden": false
        },
        "execution": {
          "iopub.status.busy": "2021-06-22T12:00:17.235646Z",
          "iopub.execute_input": "2021-06-22T12:00:17.236025Z",
          "iopub.status.idle": "2021-06-22T12:00:17.503976Z",
          "shell.execute_reply.started": "2021-06-22T12:00:17.235992Z",
          "shell.execute_reply": "2021-06-22T12:00:17.503192Z"
        },
        "trusted": true,
        "colab": {
          "base_uri": "https://localhost:8080/"
        },
        "id": "NK-lv10ePiTz",
        "outputId": "8ae45bfc-f97a-498c-aeb4-2b08aefa6e48"
      },
      "execution_count": null,
      "outputs": [
        {
          "output_type": "stream",
          "name": "stdout",
          "text": [
            "\r[*********************100%***********************]  1 of 1 completed\n"
          ]
        }
      ]
    },
    {
      "cell_type": "code",
      "source": [
        "data.head(3)"
      ],
      "metadata": {
        "_uuid": "3df7b710-4aa4-468e-96d6-7d7780a66930",
        "_cell_guid": "75518506-3db0-461b-80ce-87712c4e360f",
        "jupyter": {
          "outputs_hidden": false
        },
        "execution": {
          "iopub.status.busy": "2021-06-22T12:00:18.741458Z",
          "iopub.execute_input": "2021-06-22T12:00:18.741774Z",
          "iopub.status.idle": "2021-06-22T12:00:18.753763Z",
          "shell.execute_reply.started": "2021-06-22T12:00:18.741746Z",
          "shell.execute_reply": "2021-06-22T12:00:18.752668Z"
        },
        "trusted": true,
        "colab": {
          "base_uri": "https://localhost:8080/",
          "height": 175
        },
        "id": "VjmSfbT5PiTz",
        "outputId": "99c95b0a-697b-4172-92ae-cff741df0c9f"
      },
      "execution_count": null,
      "outputs": [
        {
          "output_type": "execute_result",
          "data": {
            "text/plain": [
              "                  Open        High         Low       Close   Adj Close  \\\n",
              "Date                                                                     \n",
              "2018-03-27  815.900024  829.000000  809.400024  824.900024  811.780884   \n",
              "2018-03-28  823.000000  823.400024  814.950012  818.099976  805.089050   \n",
              "2018-04-02  828.700012  886.150024  826.099976  882.500000  868.464722   \n",
              "\n",
              "             Volume  \n",
              "Date                 \n",
              "2018-03-27  1012400  \n",
              "2018-03-28   634190  \n",
              "2018-04-02  2993082  "
            ],
            "text/html": [
              "\n",
              "  <div id=\"df-f2a8e917-b381-44c6-bbff-817a5093add7\">\n",
              "    <div class=\"colab-df-container\">\n",
              "      <div>\n",
              "<style scoped>\n",
              "    .dataframe tbody tr th:only-of-type {\n",
              "        vertical-align: middle;\n",
              "    }\n",
              "\n",
              "    .dataframe tbody tr th {\n",
              "        vertical-align: top;\n",
              "    }\n",
              "\n",
              "    .dataframe thead th {\n",
              "        text-align: right;\n",
              "    }\n",
              "</style>\n",
              "<table border=\"1\" class=\"dataframe\">\n",
              "  <thead>\n",
              "    <tr style=\"text-align: right;\">\n",
              "      <th></th>\n",
              "      <th>Open</th>\n",
              "      <th>High</th>\n",
              "      <th>Low</th>\n",
              "      <th>Close</th>\n",
              "      <th>Adj Close</th>\n",
              "      <th>Volume</th>\n",
              "    </tr>\n",
              "    <tr>\n",
              "      <th>Date</th>\n",
              "      <th></th>\n",
              "      <th></th>\n",
              "      <th></th>\n",
              "      <th></th>\n",
              "      <th></th>\n",
              "      <th></th>\n",
              "    </tr>\n",
              "  </thead>\n",
              "  <tbody>\n",
              "    <tr>\n",
              "      <th>2018-03-27</th>\n",
              "      <td>815.900024</td>\n",
              "      <td>829.000000</td>\n",
              "      <td>809.400024</td>\n",
              "      <td>824.900024</td>\n",
              "      <td>811.780884</td>\n",
              "      <td>1012400</td>\n",
              "    </tr>\n",
              "    <tr>\n",
              "      <th>2018-03-28</th>\n",
              "      <td>823.000000</td>\n",
              "      <td>823.400024</td>\n",
              "      <td>814.950012</td>\n",
              "      <td>818.099976</td>\n",
              "      <td>805.089050</td>\n",
              "      <td>634190</td>\n",
              "    </tr>\n",
              "    <tr>\n",
              "      <th>2018-04-02</th>\n",
              "      <td>828.700012</td>\n",
              "      <td>886.150024</td>\n",
              "      <td>826.099976</td>\n",
              "      <td>882.500000</td>\n",
              "      <td>868.464722</td>\n",
              "      <td>2993082</td>\n",
              "    </tr>\n",
              "  </tbody>\n",
              "</table>\n",
              "</div>\n",
              "      <button class=\"colab-df-convert\" onclick=\"convertToInteractive('df-f2a8e917-b381-44c6-bbff-817a5093add7')\"\n",
              "              title=\"Convert this dataframe to an interactive table.\"\n",
              "              style=\"display:none;\">\n",
              "        \n",
              "  <svg xmlns=\"http://www.w3.org/2000/svg\" height=\"24px\"viewBox=\"0 0 24 24\"\n",
              "       width=\"24px\">\n",
              "    <path d=\"M0 0h24v24H0V0z\" fill=\"none\"/>\n",
              "    <path d=\"M18.56 5.44l.94 2.06.94-2.06 2.06-.94-2.06-.94-.94-2.06-.94 2.06-2.06.94zm-11 1L8.5 8.5l.94-2.06 2.06-.94-2.06-.94L8.5 2.5l-.94 2.06-2.06.94zm10 10l.94 2.06.94-2.06 2.06-.94-2.06-.94-.94-2.06-.94 2.06-2.06.94z\"/><path d=\"M17.41 7.96l-1.37-1.37c-.4-.4-.92-.59-1.43-.59-.52 0-1.04.2-1.43.59L10.3 9.45l-7.72 7.72c-.78.78-.78 2.05 0 2.83L4 21.41c.39.39.9.59 1.41.59.51 0 1.02-.2 1.41-.59l7.78-7.78 2.81-2.81c.8-.78.8-2.07 0-2.86zM5.41 20L4 18.59l7.72-7.72 1.47 1.35L5.41 20z\"/>\n",
              "  </svg>\n",
              "      </button>\n",
              "      \n",
              "  <style>\n",
              "    .colab-df-container {\n",
              "      display:flex;\n",
              "      flex-wrap:wrap;\n",
              "      gap: 12px;\n",
              "    }\n",
              "\n",
              "    .colab-df-convert {\n",
              "      background-color: #E8F0FE;\n",
              "      border: none;\n",
              "      border-radius: 50%;\n",
              "      cursor: pointer;\n",
              "      display: none;\n",
              "      fill: #1967D2;\n",
              "      height: 32px;\n",
              "      padding: 0 0 0 0;\n",
              "      width: 32px;\n",
              "    }\n",
              "\n",
              "    .colab-df-convert:hover {\n",
              "      background-color: #E2EBFA;\n",
              "      box-shadow: 0px 1px 2px rgba(60, 64, 67, 0.3), 0px 1px 3px 1px rgba(60, 64, 67, 0.15);\n",
              "      fill: #174EA6;\n",
              "    }\n",
              "\n",
              "    [theme=dark] .colab-df-convert {\n",
              "      background-color: #3B4455;\n",
              "      fill: #D2E3FC;\n",
              "    }\n",
              "\n",
              "    [theme=dark] .colab-df-convert:hover {\n",
              "      background-color: #434B5C;\n",
              "      box-shadow: 0px 1px 3px 1px rgba(0, 0, 0, 0.15);\n",
              "      filter: drop-shadow(0px 1px 2px rgba(0, 0, 0, 0.3));\n",
              "      fill: #FFFFFF;\n",
              "    }\n",
              "  </style>\n",
              "\n",
              "      <script>\n",
              "        const buttonEl =\n",
              "          document.querySelector('#df-f2a8e917-b381-44c6-bbff-817a5093add7 button.colab-df-convert');\n",
              "        buttonEl.style.display =\n",
              "          google.colab.kernel.accessAllowed ? 'block' : 'none';\n",
              "\n",
              "        async function convertToInteractive(key) {\n",
              "          const element = document.querySelector('#df-f2a8e917-b381-44c6-bbff-817a5093add7');\n",
              "          const dataTable =\n",
              "            await google.colab.kernel.invokeFunction('convertToInteractive',\n",
              "                                                     [key], {});\n",
              "          if (!dataTable) return;\n",
              "\n",
              "          const docLinkHtml = 'Like what you see? Visit the ' +\n",
              "            '<a target=\"_blank\" href=https://colab.research.google.com/notebooks/data_table.ipynb>data table notebook</a>'\n",
              "            + ' to learn more about interactive tables.';\n",
              "          element.innerHTML = '';\n",
              "          dataTable['output_type'] = 'display_data';\n",
              "          await google.colab.output.renderOutput(dataTable, element);\n",
              "          const docLink = document.createElement('div');\n",
              "          docLink.innerHTML = docLinkHtml;\n",
              "          element.appendChild(docLink);\n",
              "        }\n",
              "      </script>\n",
              "    </div>\n",
              "  </div>\n",
              "  "
            ]
          },
          "metadata": {},
          "execution_count": 5
        }
      ]
    },
    {
      "cell_type": "code",
      "source": [
        "data_target = data.iloc[:1182,4]\n",
        "data_test = data.iloc[1132:,4]\n",
        "data = data.loc[:,[\"Adj Close\"]].values"
      ],
      "metadata": {
        "_uuid": "bccd8767-d8af-4a98-a556-5b065facf086",
        "_cell_guid": "35a00028-433e-4e8f-bfda-9d3d4a77bd56",
        "jupyter": {
          "outputs_hidden": false
        },
        "execution": {
          "iopub.status.busy": "2021-06-22T12:00:19.984296Z",
          "iopub.execute_input": "2021-06-22T12:00:19.984635Z",
          "iopub.status.idle": "2021-06-22T12:00:19.991016Z",
          "shell.execute_reply.started": "2021-06-22T12:00:19.98459Z",
          "shell.execute_reply": "2021-06-22T12:00:19.989925Z"
        },
        "trusted": true,
        "id": "XTzwnNumPiT0"
      },
      "execution_count": null,
      "outputs": []
    },
    {
      "cell_type": "code",
      "source": [
        "plot = data_target.plot()"
      ],
      "metadata": {
        "_uuid": "f56d2e3b-2f4b-4922-a2d4-ee04c6ad39c9",
        "_cell_guid": "66792561-2f94-4158-ad83-42d1b6f40d85",
        "jupyter": {
          "outputs_hidden": false
        },
        "execution": {
          "iopub.status.busy": "2021-06-22T12:00:21.615299Z",
          "iopub.execute_input": "2021-06-22T12:00:21.615635Z",
          "iopub.status.idle": "2021-06-22T12:00:21.755543Z",
          "shell.execute_reply.started": "2021-06-22T12:00:21.615605Z",
          "shell.execute_reply": "2021-06-22T12:00:21.754534Z"
        },
        "trusted": true,
        "colab": {
          "base_uri": "https://localhost:8080/",
          "height": 269
        },
        "id": "kGhvXNkqPiT0",
        "outputId": "e7e203e8-17f8-4604-b105-a57793df3c33"
      },
      "execution_count": null,
      "outputs": [
        {
          "output_type": "display_data",
          "data": {
            "text/plain": [
              "<Figure size 432x288 with 1 Axes>"
            ],
            "image/png": "[encoded data removed]"
          },
          "metadata": {
            "needs_background": "light"
          }
        }
      ]
    },
    {
      "cell_type": "code",
      "source": [
        "#Check Length \n",
        "print(\"Length of Data:{}\".format(len(data)))\n",
        "print(\"Length of Data_Target:{}\".format(len(data_target)))"
      ],
      "metadata": {
        "_uuid": "1ca38f99-bfbf-4c48-94a4-99abb9ffe8f2",
        "_cell_guid": "75a9e2c4-6321-4db6-8399-a9b7bba25a35",
        "jupyter": {
          "outputs_hidden": false
        },
        "execution": {
          "iopub.status.busy": "2021-06-22T12:00:22.944388Z",
          "iopub.execute_input": "2021-06-22T12:00:22.944701Z",
          "iopub.status.idle": "2021-06-22T12:00:22.952618Z",
          "shell.execute_reply.started": "2021-06-22T12:00:22.944672Z",
          "shell.execute_reply": "2021-06-22T12:00:22.951822Z"
        },
        "trusted": true,
        "colab": {
          "base_uri": "https://localhost:8080/"
        },
        "id": "FTt0hx36PiT0",
        "outputId": "671e556f-ae3f-4121-aa7e-5be93d9d1313"
      },
      "execution_count": null,
      "outputs": [
        {
          "output_type": "stream",
          "name": "stdout",
          "text": [
            "Length of Data:1237\n",
            "Length of Data_Target:1182\n"
          ]
        }
      ]
    },
    {
      "cell_type": "code",
      "source": [
        "#Scaling Dataset\n",
        "def scaledata(data_target):\n",
        "    from sklearn.preprocessing import MinMaxScaler\n",
        "    scaler = MinMaxScaler(feature_range=(0,1))\n",
        "    data_target_scaled = scaler.fit_transform(np.array(data_target).reshape(-1,1))\n",
        "    #plot_scaled = pd.DataFrame(data_target_scaled).plot()\n",
        "    print(data_target.shape)\n",
        "    return data_target_scaled, scaler"
      ],
      "metadata": {
        "_uuid": "566efd26-1ccf-48ef-bb4b-e093e438102d",
        "_cell_guid": "830176ac-7dd2-4223-adf2-27b121bd14c4",
        "jupyter": {
          "outputs_hidden": false
        },
        "execution": {
          "iopub.status.busy": "2021-06-22T12:00:25.439114Z",
          "iopub.execute_input": "2021-06-22T12:00:25.439431Z",
          "iopub.status.idle": "2021-06-22T12:00:25.445581Z",
          "shell.execute_reply.started": "2021-06-22T12:00:25.439402Z",
          "shell.execute_reply": "2021-06-22T12:00:25.44463Z"
        },
        "trusted": true,
        "id": "9GzOV2GYPiT0"
      },
      "execution_count": null,
      "outputs": []
    },
    {
      "cell_type": "code",
      "source": [
        "data_target_scaled = scaledata(data_target)[0]\n",
        "scaler = scaledata(data_target)[1]\n",
        "data_target_scaled"
      ],
      "metadata": {
        "_uuid": "f035cdbf-77a6-4e55-816d-9fba0a24a572",
        "_cell_guid": "b1db160a-a03a-42c4-8c3b-f27aadfab3a3",
        "jupyter": {
          "outputs_hidden": false
        },
        "execution": {
          "iopub.status.busy": "2021-06-22T12:00:26.610412Z",
          "iopub.execute_input": "2021-06-22T12:00:26.610731Z",
          "iopub.status.idle": "2021-06-22T12:00:26.620199Z",
          "shell.execute_reply.started": "2021-06-22T12:00:26.610701Z",
          "shell.execute_reply": "2021-06-22T12:00:26.619049Z"
        },
        "trusted": true,
        "colab": {
          "base_uri": "https://localhost:8080/"
        },
        "id": "FZGZqOL7PiT1",
        "outputId": "ccf66c29-de7e-48ef-82ee-c787ed5fa184"
      },
      "execution_count": null,
      "outputs": [
        {
          "output_type": "stream",
          "name": "stdout",
          "text": [
            "(1182,)\n",
            "(1182,)\n"
          ]
        },
        {
          "output_type": "execute_result",
          "data": {
            "text/plain": [
              "array([[0.19973502],\n",
              "       [0.19624585],\n",
              "       [0.22929035],\n",
              "       ...,\n",
              "       [0.90625105],\n",
              "       [0.89504081],\n",
              "       [0.90711132]])"
            ]
          },
          "metadata": {},
          "execution_count": 10
        }
      ]
    },
    {
      "cell_type": "code",
      "source": [
        "data_test_scaled = scaledata(data_test)[0]"
      ],
      "metadata": {
        "_uuid": "f734f1ad-38db-4e7d-88f0-ee31aaec01e7",
        "_cell_guid": "8106ab69-aa83-4e3a-ba2b-aca5dece843b",
        "jupyter": {
          "outputs_hidden": false
        },
        "execution": {
          "iopub.status.busy": "2021-06-22T12:00:28.143554Z",
          "iopub.execute_input": "2021-06-22T12:00:28.14392Z",
          "iopub.status.idle": "2021-06-22T12:00:28.149043Z",
          "shell.execute_reply.started": "2021-06-22T12:00:28.143864Z",
          "shell.execute_reply": "2021-06-22T12:00:28.148087Z"
        },
        "trusted": true,
        "colab": {
          "base_uri": "https://localhost:8080/"
        },
        "id": "SbR843YqPiT1",
        "outputId": "79241394-048b-4b5e-dccf-fb7f3c74352d"
      },
      "execution_count": null,
      "outputs": [
        {
          "output_type": "stream",
          "name": "stdout",
          "text": [
            "(105,)\n"
          ]
        }
      ]
    },
    {
      "cell_type": "code",
      "source": [
        "#Create pattern and end price set\n",
        "def createPatternSet(data_target_scaled,steps=7):   \n",
        "    x_patern = []\n",
        "    y_price = []\n",
        "\n",
        "    for day in range(steps,data_target_scaled.shape[0]):\n",
        "        row = data_target_scaled[day-steps:day,0]\n",
        "        #print(len(row))\n",
        "        x_patern.append(row)\n",
        "        y = data_target_scaled[day,0]\n",
        "        #print(y)\n",
        "        y_price.append(y)\n",
        "    \n",
        "    x_patern,y_price = np.array(x_patern),np.array(y_price)\n",
        "    x_patern = x_patern.reshape(x_patern.shape[0],x_patern.shape[1],1)\n",
        "    \n",
        "    return x_patern,y_price"
      ],
      "metadata": {
        "_uuid": "08779dd6-0d4d-4019-9f52-9db419d149d0",
        "_cell_guid": "60c94e44-65f5-4155-a93c-400717e6e27a",
        "jupyter": {
          "outputs_hidden": false
        },
        "execution": {
          "iopub.status.busy": "2021-06-22T12:00:30.472002Z",
          "iopub.execute_input": "2021-06-22T12:00:30.472333Z",
          "iopub.status.idle": "2021-06-22T12:00:30.47806Z",
          "shell.execute_reply.started": "2021-06-22T12:00:30.472305Z",
          "shell.execute_reply": "2021-06-22T12:00:30.477204Z"
        },
        "trusted": true,
        "id": "Zn82XGP_PiT1"
      },
      "execution_count": null,
      "outputs": []
    },
    {
      "cell_type": "code",
      "source": [
        "train_pattern = createPatternSet(data_target_scaled,steps=50)"
      ],
      "metadata": {
        "_uuid": "a9e80c49-df0f-4147-b1be-f42c2db85f68",
        "_cell_guid": "a1472b62-943c-4f0d-a05d-a06e7f19d878",
        "jupyter": {
          "outputs_hidden": false
        },
        "execution": {
          "iopub.status.busy": "2021-06-22T12:00:32.281696Z",
          "iopub.execute_input": "2021-06-22T12:00:32.282059Z",
          "iopub.status.idle": "2021-06-22T12:00:32.288901Z",
          "shell.execute_reply.started": "2021-06-22T12:00:32.282028Z",
          "shell.execute_reply": "2021-06-22T12:00:32.287909Z"
        },
        "trusted": true,
        "id": "Cu-AoCu9PiT1"
      },
      "execution_count": null,
      "outputs": []
    },
    {
      "cell_type": "code",
      "source": [
        "x_train = train_pattern[0]\n",
        "y_train = train_pattern[1]"
      ],
      "metadata": {
        "_uuid": "4a8fcc14-21ec-4810-af9c-f4c5df5a30a7",
        "_cell_guid": "2b83291a-c960-474c-ac65-441d7bdad9a3",
        "jupyter": {
          "outputs_hidden": false
        },
        "execution": {
          "iopub.status.busy": "2021-06-22T12:00:33.978537Z",
          "iopub.execute_input": "2021-06-22T12:00:33.978864Z",
          "iopub.status.idle": "2021-06-22T12:00:33.982928Z",
          "shell.execute_reply.started": "2021-06-22T12:00:33.978834Z",
          "shell.execute_reply": "2021-06-22T12:00:33.981911Z"
        },
        "trusted": true,
        "id": "MKJZQsa_PiT1"
      },
      "execution_count": null,
      "outputs": []
    },
    {
      "cell_type": "code",
      "source": [
        "x_train.shape"
      ],
      "metadata": {
        "_uuid": "19ad27ac-d247-4fc1-8515-a097994865ed",
        "_cell_guid": "f31726ca-d3bf-4843-b8dc-dfe023ecfcaf",
        "jupyter": {
          "outputs_hidden": false
        },
        "execution": {
          "iopub.status.busy": "2021-06-22T12:00:35.502247Z",
          "iopub.execute_input": "2021-06-22T12:00:35.502579Z",
          "iopub.status.idle": "2021-06-22T12:00:35.509402Z",
          "shell.execute_reply.started": "2021-06-22T12:00:35.50255Z",
          "shell.execute_reply": "2021-06-22T12:00:35.508412Z"
        },
        "trusted": true,
        "colab": {
          "base_uri": "https://localhost:8080/"
        },
        "id": "r4eT5c_CPiT1",
        "outputId": "f1cd0790-f9cf-42f9-c0a8-cadc7f39d954"
      },
      "execution_count": null,
      "outputs": [
        {
          "output_type": "execute_result",
          "data": {
            "text/plain": [
              "(1132, 50, 1)"
            ]
          },
          "metadata": {},
          "execution_count": 15
        }
      ]
    },
    {
      "cell_type": "code",
      "source": [
        "y_train.shape"
      ],
      "metadata": {
        "_uuid": "d84bda5a-643b-4371-81a0-77928d308efe",
        "_cell_guid": "60370838-1ef9-4c0a-b25f-c5f3f0951050",
        "jupyter": {
          "outputs_hidden": false
        },
        "execution": {
          "iopub.status.busy": "2021-06-22T12:00:36.459316Z",
          "iopub.execute_input": "2021-06-22T12:00:36.459713Z",
          "iopub.status.idle": "2021-06-22T12:00:36.468115Z",
          "shell.execute_reply.started": "2021-06-22T12:00:36.45967Z",
          "shell.execute_reply": "2021-06-22T12:00:36.467216Z"
        },
        "trusted": true,
        "colab": {
          "base_uri": "https://localhost:8080/"
        },
        "id": "wNhWzGhVPiT2",
        "outputId": "717320f0-3b51-4f86-c645-790d879fe878"
      },
      "execution_count": null,
      "outputs": [
        {
          "output_type": "execute_result",
          "data": {
            "text/plain": [
              "(1132,)"
            ]
          },
          "metadata": {},
          "execution_count": 16
        }
      ]
    },
    {
      "cell_type": "code",
      "source": [
        "x_train"
      ],
      "metadata": {
        "_uuid": "a93669fa-8b99-4a96-baec-90faafee5860",
        "_cell_guid": "eed1adae-c38f-48fa-9e69-8a86560b7105",
        "execution": {
          "iopub.status.busy": "2021-06-22T12:00:39.692349Z",
          "iopub.execute_input": "2021-06-22T12:00:39.692668Z",
          "iopub.status.idle": "2021-06-22T12:00:39.702115Z",
          "shell.execute_reply.started": "2021-06-22T12:00:39.692638Z",
          "shell.execute_reply": "2021-06-22T12:00:39.700649Z"
        },
        "collapsed": true,
        "jupyter": {
          "outputs_hidden": true
        },
        "trusted": true,
        "colab": {
          "base_uri": "https://localhost:8080/"
        },
        "id": "TW5I2qsJPiT2",
        "outputId": "ab26f4c3-826e-4ada-eca3-56e42953fb9d"
      },
      "execution_count": null,
      "outputs": [
        {
          "output_type": "execute_result",
          "data": {
            "text/plain": [
              "array([[[0.19973502],\n",
              "        [0.19624585],\n",
              "        [0.22929035],\n",
              "        ...,\n",
              "        [0.2336775 ],\n",
              "        [0.2375772 ],\n",
              "        [0.2460436 ]],\n",
              "\n",
              "       [[0.19624585],\n",
              "        [0.22929035],\n",
              "        [0.23075277],\n",
              "        ...,\n",
              "        [0.2375772 ],\n",
              "        [0.2460436 ],\n",
              "        [0.24848085]],\n",
              "\n",
              "       [[0.22929035],\n",
              "        [0.23075277],\n",
              "        [0.22421058],\n",
              "        ...,\n",
              "        [0.2460436 ],\n",
              "        [0.24848085],\n",
              "        [0.24758293]],\n",
              "\n",
              "       ...,\n",
              "\n",
              "       [[0.813206  ],\n",
              "        [0.81075541],\n",
              "        [0.81972358],\n",
              "        ...,\n",
              "        [0.89277264],\n",
              "        [0.89235549],\n",
              "        [0.89259023]],\n",
              "\n",
              "       [[0.81075541],\n",
              "        [0.81972358],\n",
              "        [0.82929138],\n",
              "        ...,\n",
              "        [0.89235549],\n",
              "        [0.89259023],\n",
              "        [0.90625105]],\n",
              "\n",
              "       [[0.81972358],\n",
              "        [0.82929138],\n",
              "        [0.81729903],\n",
              "        ...,\n",
              "        [0.89259023],\n",
              "        [0.90625105],\n",
              "        [0.89504081]]])"
            ]
          },
          "metadata": {},
          "execution_count": 17
        }
      ]
    },
    {
      "cell_type": "code",
      "source": [
        "class StocksPriceRNN():\n",
        "\n",
        "    loss='mean_squared_error'\n",
        "    batch_size=32\n",
        "    neurons = 50\n",
        "    model = tf.keras.Sequential()\n",
        "    def __init__(self,x_train,y_train,epoch):\n",
        "        self.x_train = x_train\n",
        "        self.y_train = y_train\n",
        "        self.epoch = epoch\n",
        "    \n",
        "    def buildArchitecture(self,rnn=2,dense=1):\n",
        "        StocksPriceRNN.model = tf.keras.Sequential()\n",
        "        StocksPriceRNN.model.add(tf.keras.layers.SimpleRNN(StocksPriceRNN.neurons,\n",
        "                                            activation='tanh',\n",
        "                                            return_sequences = True,\n",
        "                                            input_shape = (self.x_train.shape[1],1)))\n",
        "        StocksPriceRNN.model.add(tf.keras.layers.Dropout(0.2))\n",
        "        for i in range(rnn):\n",
        "            StocksPriceRNN.model.add(tf.keras.layers.SimpleRNN(StocksPriceRNN.neurons,\n",
        "                                                activation='tanh',\n",
        "                                                return_sequences = True))\n",
        "            StocksPriceRNN.model.add(tf.keras.layers.Dropout(0.2))\n",
        "        \n",
        "        #return sequense changed to false\n",
        "        StocksPriceRNN.model.add(tf.keras.layers.SimpleRNN(StocksPriceRNN.neurons,\n",
        "                                                activation='tanh',\n",
        "                                                return_sequences = False))\n",
        "        StocksPriceRNN.model.add(tf.keras.layers.Dropout(0.2))\n",
        "        \n",
        "        for i in range(dense):\n",
        "            StocksPriceRNN.model.add(tf.keras.layers.Dense(units=StocksPriceRNN.neurons,\n",
        "                                            activation='tanh'))\n",
        "        \n",
        "        #Output\n",
        "        StocksPriceRNN.model.add(tf.keras.layers.Dense(units=1))\n",
        "        return StocksPriceRNN.model.summary()\n",
        "    \n",
        "    def compiler(self):\n",
        "        opt= tf.keras.optimizers.Adam()\n",
        "        StocksPriceRNN.model.compile(optimizer = opt,\n",
        "                                    loss = StocksPriceRNN.loss)\n",
        "        return StocksPriceRNN.model.summary()\n",
        "        \n",
        "    def modelfit(self):\n",
        "        history = StocksPriceRNN.model.fit(self.x_train,self.y_train,\n",
        "                                        epochs=self.epoch,batch_size=StocksPriceRNN.batch_size,validation_split=0.2,\n",
        "                                       )\n",
        "        return history\n",
        "    \n",
        "    def changeBatchSize(self,size):\n",
        "        StocksPriceRNN.batch_size = size\n",
        "        print(\"Changed!\")\n",
        "    def changeNeurons(self,size):\n",
        "        StocksPriceRNN.neurons = size\n",
        "        print(\"Changed!\")\n",
        "    def changeEpoch(self,size):\n",
        "        self.epoch = size\n",
        "        print(\"Changed!\")"
      ],
      "metadata": {
        "_uuid": "98072cef-6f8b-4aef-a1cd-de8bc64d44bd",
        "_cell_guid": "cfc93621-106e-454b-abc0-157a63b509ed",
        "jupyter": {
          "outputs_hidden": false
        },
        "execution": {
          "iopub.status.busy": "2021-06-22T12:00:47.587517Z",
          "iopub.execute_input": "2021-06-22T12:00:47.587843Z",
          "iopub.status.idle": "2021-06-22T12:00:47.606363Z",
          "shell.execute_reply.started": "2021-06-22T12:00:47.587811Z",
          "shell.execute_reply": "2021-06-22T12:00:47.605597Z"
        },
        "trusted": true,
        "id": "LJ7GshjgPiT2"
      },
      "execution_count": null,
      "outputs": []
    },
    {
      "cell_type": "code",
      "source": [
        "RNN1 = StocksPriceRNN(x_train,y_train,50)"
      ],
      "metadata": {
        "_uuid": "5e314df1-6dc1-427a-9808-00353fa2c590",
        "_cell_guid": "29fd3c05-3a59-4541-9e1a-6290636b4ecb",
        "execution": {
          "iopub.status.busy": "2021-06-21T12:13:10.267152Z",
          "iopub.execute_input": "2021-06-21T12:13:10.267497Z",
          "iopub.status.idle": "2021-06-21T12:13:10.274911Z",
          "shell.execute_reply.started": "2021-06-21T12:13:10.267463Z",
          "shell.execute_reply": "2021-06-21T12:13:10.273863Z"
        },
        "jupyter": {
          "outputs_hidden": false
        },
        "trusted": true,
        "id": "oJUhTWh3PiT2"
      },
      "execution_count": null,
      "outputs": []
    },
    {
      "cell_type": "code",
      "source": [
        "RNN1.buildArchitecture(2,0)"
      ],
      "metadata": {
        "_uuid": "40681525-f235-4b1e-817d-ca95f8762a89",
        "_cell_guid": "79d995ef-9514-45e5-a3bf-b84a701062be",
        "execution": {
          "iopub.status.busy": "2021-06-21T12:13:10.276311Z",
          "iopub.execute_input": "2021-06-21T12:13:10.276785Z",
          "iopub.status.idle": "2021-06-21T12:13:10.48528Z",
          "shell.execute_reply.started": "2021-06-21T12:13:10.276723Z",
          "shell.execute_reply": "2021-06-21T12:13:10.484581Z"
        },
        "jupyter": {
          "outputs_hidden": false
        },
        "trusted": true,
        "colab": {
          "base_uri": "https://localhost:8080/"
        },
        "id": "4uKbkdjPPiT3",
        "outputId": "025e7aa2-2391-47e0-bb65-051968333802"
      },
      "execution_count": null,
      "outputs": [
        {
          "output_type": "stream",
          "name": "stdout",
          "text": [
            "Model: \"sequential_1\"\n",
            "_________________________________________________________________\n",
            " Layer (type)                Output Shape              Param #   \n",
            "=================================================================\n",
            " simple_rnn (SimpleRNN)      (None, 50, 50)            2600      \n",
            "                                                                 \n",
            " dropout (Dropout)           (None, 50, 50)            0         \n",
            "                                                                 \n",
            " simple_rnn_1 (SimpleRNN)    (None, 50, 50)            5050      \n",
            "                                                                 \n",
            " dropout_1 (Dropout)         (None, 50, 50)            0         \n",
            "                                                                 \n",
            " simple_rnn_2 (SimpleRNN)    (None, 50, 50)            5050      \n",
            "                                                                 \n",
            " dropout_2 (Dropout)         (None, 50, 50)            0         \n",
            "                                                                 \n",
            " simple_rnn_3 (SimpleRNN)    (None, 50)                5050      \n",
            "                                                                 \n",
            " dropout_3 (Dropout)         (None, 50)                0         \n",
            "                                                                 \n",
            " dense (Dense)               (None, 1)                 51        \n",
            "                                                                 \n",
            "=================================================================\n",
            "Total params: 17,801\n",
            "Trainable params: 17,801\n",
            "Non-trainable params: 0\n",
            "_________________________________________________________________\n"
          ]
        }
      ]
    },
    {
      "cell_type": "code",
      "source": [
        "RNN1.compiler()"
      ],
      "metadata": {
        "_uuid": "edca8f9a-8f37-48ec-839a-d05d039f92d4",
        "_cell_guid": "3931c6e5-e46a-4b1f-9329-9fe77dff8c8a",
        "execution": {
          "iopub.status.busy": "2021-06-21T12:13:10.487583Z",
          "iopub.execute_input": "2021-06-21T12:13:10.487949Z",
          "iopub.status.idle": "2021-06-21T12:13:10.502682Z",
          "shell.execute_reply.started": "2021-06-21T12:13:10.487917Z",
          "shell.execute_reply": "2021-06-21T12:13:10.501227Z"
        },
        "jupyter": {
          "outputs_hidden": false
        },
        "trusted": true,
        "colab": {
          "base_uri": "https://localhost:8080/"
        },
        "id": "MKiuq6x-PiT3",
        "outputId": "25ac39d3-b916-4b09-e75d-615562ef0490"
      },
      "execution_count": null,
      "outputs": [
        {
          "output_type": "stream",
          "name": "stdout",
          "text": [
            "Model: \"sequential_1\"\n",
            "_________________________________________________________________\n",
            " Layer (type)                Output Shape              Param #   \n",
            "=================================================================\n",
            " simple_rnn (SimpleRNN)      (None, 50, 50)            2600      \n",
            "                                                                 \n",
            " dropout (Dropout)           (None, 50, 50)            0         \n",
            "                                                                 \n",
            " simple_rnn_1 (SimpleRNN)    (None, 50, 50)            5050      \n",
            "                                                                 \n",
            " dropout_1 (Dropout)         (None, 50, 50)            0         \n",
            "                                                                 \n",
            " simple_rnn_2 (SimpleRNN)    (None, 50, 50)            5050      \n",
            "                                                                 \n",
            " dropout_2 (Dropout)         (None, 50, 50)            0         \n",
            "                                                                 \n",
            " simple_rnn_3 (SimpleRNN)    (None, 50)                5050      \n",
            "                                                                 \n",
            " dropout_3 (Dropout)         (None, 50)                0         \n",
            "                                                                 \n",
            " dense (Dense)               (None, 1)                 51        \n",
            "                                                                 \n",
            "=================================================================\n",
            "Total params: 17,801\n",
            "Trainable params: 17,801\n",
            "Non-trainable params: 0\n",
            "_________________________________________________________________\n"
          ]
        }
      ]
    },
    {
      "cell_type": "code",
      "source": [
        "history = RNN1.modelfit()"
      ],
      "metadata": {
        "_uuid": "1315fc49-0e07-48f7-be92-812dee1eae2f",
        "_cell_guid": "99ef6800-1e38-44bb-ab69-c8e51d0ffd21",
        "execution": {
          "iopub.status.busy": "2021-06-21T12:13:10.503787Z",
          "iopub.execute_input": "2021-06-21T12:13:10.504116Z",
          "iopub.status.idle": "2021-06-21T12:16:14.952548Z",
          "shell.execute_reply.started": "2021-06-21T12:13:10.504079Z",
          "shell.execute_reply": "2021-06-21T12:16:14.951778Z"
        },
        "jupyter": {
          "outputs_hidden": false
        },
        "trusted": true,
        "colab": {
          "base_uri": "https://localhost:8080/"
        },
        "id": "GCUKY0I-PiT3",
        "outputId": "2b898850-200e-4dfa-f9f0-5c2a06337ab2"
      },
      "execution_count": null,
      "outputs": [
        {
          "output_type": "stream",
          "name": "stdout",
          "text": [
            "Epoch 1/50\n",
            "29/29 [==============================] - 11s 94ms/step - loss: 0.5074 - val_loss: 0.0817\n",
            "Epoch 2/50\n",
            "29/29 [==============================] - 2s 73ms/step - loss: 0.2919 - val_loss: 0.0103\n",
            "Epoch 3/50\n",
            "29/29 [==============================] - 2s 86ms/step - loss: 0.2169 - val_loss: 0.0090\n",
            "Epoch 4/50\n",
            "29/29 [==============================] - 2s 64ms/step - loss: 0.1912 - val_loss: 0.0083\n",
            "Epoch 5/50\n",
            "29/29 [==============================] - 2s 59ms/step - loss: 0.1686 - val_loss: 0.0142\n",
            "Epoch 6/50\n",
            "29/29 [==============================] - 2s 59ms/step - loss: 0.1142 - val_loss: 0.0268\n",
            "Epoch 7/50\n",
            "29/29 [==============================] - 2s 58ms/step - loss: 0.1129 - val_loss: 0.0453\n",
            "Epoch 8/50\n",
            "29/29 [==============================] - 2s 55ms/step - loss: 0.0986 - val_loss: 0.0097\n",
            "Epoch 9/50\n",
            "29/29 [==============================] - 2s 59ms/step - loss: 0.0804 - val_loss: 0.0161\n",
            "Epoch 10/50\n",
            "29/29 [==============================] - 3s 96ms/step - loss: 0.0667 - val_loss: 0.0046\n",
            "Epoch 11/50\n",
            "29/29 [==============================] - 2s 64ms/step - loss: 0.0569 - val_loss: 0.0071\n",
            "Epoch 12/50\n",
            "29/29 [==============================] - 2s 59ms/step - loss: 0.0463 - val_loss: 0.0052\n",
            "Epoch 13/50\n",
            "29/29 [==============================] - 2s 61ms/step - loss: 0.0460 - val_loss: 0.0032\n",
            "Epoch 14/50\n",
            "29/29 [==============================] - 2s 58ms/step - loss: 0.0411 - val_loss: 0.0024\n",
            "Epoch 15/50\n",
            "29/29 [==============================] - 2s 59ms/step - loss: 0.0339 - val_loss: 0.0025\n",
            "Epoch 16/50\n",
            "29/29 [==============================] - 2s 63ms/step - loss: 0.0314 - val_loss: 0.0035\n",
            "Epoch 17/50\n",
            "29/29 [==============================] - 3s 97ms/step - loss: 0.0275 - val_loss: 0.0076\n",
            "Epoch 18/50\n",
            "29/29 [==============================] - 2s 58ms/step - loss: 0.0273 - val_loss: 0.0018\n",
            "Epoch 19/50\n",
            "29/29 [==============================] - 2s 59ms/step - loss: 0.0215 - val_loss: 0.0027\n",
            "Epoch 20/50\n",
            "29/29 [==============================] - 2s 58ms/step - loss: 0.0207 - val_loss: 0.0021\n",
            "Epoch 21/50\n",
            "29/29 [==============================] - 2s 54ms/step - loss: 0.0184 - val_loss: 0.0023\n",
            "Epoch 22/50\n",
            "29/29 [==============================] - 2s 56ms/step - loss: 0.0182 - val_loss: 0.0025\n",
            "Epoch 23/50\n",
            "29/29 [==============================] - 2s 62ms/step - loss: 0.0146 - val_loss: 0.0019\n",
            "Epoch 24/50\n",
            "29/29 [==============================] - 3s 88ms/step - loss: 0.0138 - val_loss: 0.0019\n",
            "Epoch 25/50\n",
            "29/29 [==============================] - 2s 56ms/step - loss: 0.0150 - val_loss: 0.0026\n",
            "Epoch 26/50\n",
            "29/29 [==============================] - 2s 55ms/step - loss: 0.0125 - val_loss: 0.0018\n",
            "Epoch 27/50\n",
            "29/29 [==============================] - 2s 59ms/step - loss: 0.0123 - val_loss: 0.0020\n",
            "Epoch 28/50\n",
            "29/29 [==============================] - 2s 52ms/step - loss: 0.0111 - val_loss: 0.0023\n",
            "Epoch 29/50\n",
            "29/29 [==============================] - 2s 52ms/step - loss: 0.0100 - val_loss: 0.0023\n",
            "Epoch 30/50\n",
            "29/29 [==============================] - 2s 56ms/step - loss: 0.0098 - val_loss: 0.0030\n",
            "Epoch 31/50\n",
            "29/29 [==============================] - 3s 101ms/step - loss: 0.0097 - val_loss: 0.0016\n",
            "Epoch 32/50\n",
            "29/29 [==============================] - 2s 59ms/step - loss: 0.0080 - val_loss: 0.0022\n",
            "Epoch 33/50\n",
            "29/29 [==============================] - 2s 55ms/step - loss: 0.0071 - val_loss: 0.0020\n",
            "Epoch 34/50\n",
            "29/29 [==============================] - 2s 58ms/step - loss: 0.0080 - val_loss: 0.0016\n",
            "Epoch 35/50\n",
            "29/29 [==============================] - 2s 52ms/step - loss: 0.0069 - val_loss: 0.0017\n",
            "Epoch 36/50\n",
            "29/29 [==============================] - 2s 58ms/step - loss: 0.0068 - val_loss: 0.0016\n",
            "Epoch 37/50\n",
            "29/29 [==============================] - 2s 53ms/step - loss: 0.0070 - val_loss: 0.0023\n",
            "Epoch 38/50\n",
            "29/29 [==============================] - 3s 96ms/step - loss: 0.0062 - val_loss: 0.0017\n",
            "Epoch 39/50\n",
            "29/29 [==============================] - 2s 60ms/step - loss: 0.0059 - val_loss: 0.0019\n",
            "Epoch 40/50\n",
            "29/29 [==============================] - 2s 84ms/step - loss: 0.0063 - val_loss: 0.0015\n",
            "Epoch 41/50\n",
            "29/29 [==============================] - 2s 58ms/step - loss: 0.0057 - val_loss: 0.0019\n",
            "Epoch 42/50\n",
            "29/29 [==============================] - 2s 53ms/step - loss: 0.0055 - val_loss: 0.0037\n",
            "Epoch 43/50\n",
            "29/29 [==============================] - 2s 63ms/step - loss: 0.0055 - val_loss: 0.0024\n",
            "Epoch 44/50\n",
            "29/29 [==============================] - 2s 79ms/step - loss: 0.0049 - val_loss: 0.0018\n",
            "Epoch 45/50\n",
            "29/29 [==============================] - 2s 79ms/step - loss: 0.0048 - val_loss: 0.0027\n",
            "Epoch 46/50\n",
            "29/29 [==============================] - 2s 57ms/step - loss: 0.0045 - val_loss: 0.0020\n",
            "Epoch 47/50\n",
            "29/29 [==============================] - 2s 60ms/step - loss: 0.0044 - val_loss: 0.0015\n",
            "Epoch 48/50\n",
            "29/29 [==============================] - 2s 60ms/step - loss: 0.0043 - val_loss: 0.0018\n",
            "Epoch 49/50\n",
            "29/29 [==============================] - 2s 57ms/step - loss: 0.0039 - val_loss: 0.0015\n",
            "Epoch 50/50\n",
            "29/29 [==============================] - 2s 55ms/step - loss: 0.0043 - val_loss: 0.0013\n"
          ]
        }
      ]
    },
    {
      "cell_type": "code",
      "source": [
        "#Prepare Test Data\n",
        "test = data[len(data) - len(data_test) - 50:]\n",
        "test = scaler.transform(test)"
      ],
      "metadata": {
        "_uuid": "bed158ed-5b0e-4de0-903e-5b9e2f4d7ced",
        "_cell_guid": "f257c4ea-1ddc-45a1-aae3-273c00f3e994",
        "jupyter": {
          "outputs_hidden": false
        },
        "execution": {
          "iopub.status.busy": "2021-06-22T12:00:52.947793Z",
          "iopub.execute_input": "2021-06-22T12:00:52.948132Z",
          "iopub.status.idle": "2021-06-22T12:00:52.954805Z",
          "shell.execute_reply.started": "2021-06-22T12:00:52.948103Z",
          "shell.execute_reply": "2021-06-22T12:00:52.953916Z"
        },
        "trusted": true,
        "id": "7tuAwf3PPiT3"
      },
      "execution_count": null,
      "outputs": []
    },
    {
      "cell_type": "code",
      "source": [
        "test_pattern = createPatternSet(test,steps=50)\n",
        "x_test = test_pattern[0]\n",
        "y_test = test_pattern[1]"
      ],
      "metadata": {
        "_uuid": "ebbd1161-9a39-4a96-a673-70eb71bf9189",
        "_cell_guid": "efa96b1c-78e5-4724-a6eb-93e2750fbb81",
        "execution": {
          "iopub.status.busy": "2021-06-21T12:16:14.963035Z",
          "iopub.execute_input": "2021-06-21T12:16:14.963326Z",
          "iopub.status.idle": "2021-06-21T12:16:14.971601Z",
          "shell.execute_reply.started": "2021-06-21T12:16:14.9633Z",
          "shell.execute_reply": "2021-06-21T12:16:14.970935Z"
        },
        "jupyter": {
          "outputs_hidden": false
        },
        "trusted": true,
        "id": "kSGJxPHKPiT3"
      },
      "execution_count": null,
      "outputs": []
    },
    {
      "cell_type": "code",
      "source": [
        "#Predict the value for test set\n",
        "y_test"
      ],
      "metadata": {
        "_uuid": "67f34721-2af3-44fa-9cb0-ccef0687305b",
        "_cell_guid": "ff30338d-f47b-483c-93e0-cfd7d8e806b9",
        "execution": {
          "iopub.status.busy": "2021-06-21T12:16:14.972888Z",
          "iopub.execute_input": "2021-06-21T12:16:14.97324Z",
          "iopub.status.idle": "2021-06-21T12:16:14.985295Z",
          "shell.execute_reply.started": "2021-06-21T12:16:14.973191Z",
          "shell.execute_reply": "2021-06-21T12:16:14.984568Z"
        },
        "jupyter": {
          "outputs_hidden": false
        },
        "trusted": true,
        "colab": {
          "base_uri": "https://localhost:8080/"
        },
        "id": "05dXqd8HPiT3",
        "outputId": "ab1ceac8-edec-4b99-e7ca-86953c323d4a"
      },
      "execution_count": null,
      "outputs": [
        {
          "output_type": "execute_result",
          "data": {
            "text/plain": [
              "array([0.82929138, 0.81729903, 0.83927633, 0.82371235, 0.82287811,\n",
              "       0.82611081, 0.81432703, 0.79714671, 0.81276281, 0.82994314,\n",
              "       0.81109434, 0.81417059, 0.82598046, 0.82788361, 0.82731007,\n",
              "       0.83536578, 0.9215022 , 0.92997506, 0.93065291, 0.91594914,\n",
              "       0.96962806, 0.95940844, 0.9560193 , 0.96866341, 1.        ,\n",
              "       0.9881119 , 0.98743405, 0.97465958, 0.96902837, 0.97020153,\n",
              "       0.96848086, 0.96238043, 0.93237345, 0.92087654, 0.92765482,\n",
              "       0.91143903, 0.92502169, 0.91785235, 0.89743921, 0.86409527,\n",
              "       0.82553728, 0.87256813, 0.86453852, 0.8777822 , 0.89277264,\n",
              "       0.89235549, 0.89259023, 0.90625105, 0.89504081, 0.90711132,\n",
              "       0.90526031, 0.92843693, 0.91169973, 0.88802792, 0.87640052,\n",
              "       0.88078029, 0.86920509, 0.87394994, 0.86678059, 0.87225537,\n",
              "       0.86876184, 0.87228133, 0.8708215 , 0.86558133, 0.82459872,\n",
              "       0.83304555, 0.8653727 , 0.82775325, 0.8459503 , 0.85950687,\n",
              "       0.85155542, 0.82204388, 0.81015578, 0.80374245, 0.84941773,\n",
              "       0.86078442, 0.84654999, 0.84203981, 0.86565949, 0.86631125,\n",
              "       0.86873587, 0.87509701, 0.86511199, 0.8409709 , 0.8276229 ,\n",
              "       0.80976472, 0.85856844, 0.86427782, 0.82618903, 0.82222636,\n",
              "       0.82660619, 0.82410341, 0.80134399, 0.8001448 , 0.7807224 ,\n",
              "       0.77602974, 0.76169105, 0.7650802 , 0.77266663, 0.77193664,\n",
              "       0.76633152, 0.76077859, 0.74453676, 0.73160585, 0.72448864])"
            ]
          },
          "metadata": {},
          "execution_count": 25
        }
      ]
    },
    {
      "cell_type": "code",
      "source": [
        "x_test"
      ],
      "metadata": {
        "_uuid": "cb01ea2e-ab56-4478-a6e3-10f79827945f",
        "_cell_guid": "75dc14c0-4453-4537-8676-d5863c3d07dd",
        "execution": {
          "iopub.status.busy": "2021-06-21T12:16:14.988401Z",
          "iopub.execute_input": "2021-06-21T12:16:14.988651Z",
          "iopub.status.idle": "2021-06-21T12:16:14.997395Z",
          "shell.execute_reply.started": "2021-06-21T12:16:14.988628Z",
          "shell.execute_reply": "2021-06-21T12:16:14.996782Z"
        },
        "jupyter": {
          "outputs_hidden": false
        },
        "trusted": true,
        "colab": {
          "base_uri": "https://localhost:8080/"
        },
        "id": "p22o0nTAPiT3",
        "outputId": "6506020e-b585-4288-a9d8-fd81fd791338"
      },
      "execution_count": null,
      "outputs": [
        {
          "output_type": "execute_result",
          "data": {
            "text/plain": [
              "array([[[0.65316024],\n",
              "        [0.73718494],\n",
              "        [0.72495792],\n",
              "        ...,\n",
              "        [0.813206  ],\n",
              "        [0.81075541],\n",
              "        [0.81972358]],\n",
              "\n",
              "       [[0.73718494],\n",
              "        [0.72495792],\n",
              "        [0.71692824],\n",
              "        ...,\n",
              "        [0.81075541],\n",
              "        [0.81972358],\n",
              "        [0.82929138]],\n",
              "\n",
              "       [[0.72495792],\n",
              "        [0.71692824],\n",
              "        [0.70178141],\n",
              "        ...,\n",
              "        [0.81972358],\n",
              "        [0.82929138],\n",
              "        [0.81729903]],\n",
              "\n",
              "       ...,\n",
              "\n",
              "       [[0.91169973],\n",
              "        [0.88802792],\n",
              "        [0.87640052],\n",
              "        ...,\n",
              "        [0.77193664],\n",
              "        [0.76633152],\n",
              "        [0.76077859]],\n",
              "\n",
              "       [[0.88802792],\n",
              "        [0.87640052],\n",
              "        [0.88078029],\n",
              "        ...,\n",
              "        [0.76633152],\n",
              "        [0.76077859],\n",
              "        [0.74453676]],\n",
              "\n",
              "       [[0.87640052],\n",
              "        [0.88078029],\n",
              "        [0.86920509],\n",
              "        ...,\n",
              "        [0.76077859],\n",
              "        [0.74453676],\n",
              "        [0.73160585]]])"
            ]
          },
          "metadata": {},
          "execution_count": 26
        }
      ]
    },
    {
      "cell_type": "code",
      "source": [
        "pred = RNN1.model.predict(x=x_test)\n",
        "pred.shape"
      ],
      "metadata": {
        "_uuid": "483b2de1-44dd-4af9-a5c1-0a8b327df55f",
        "_cell_guid": "114916c9-e3d9-4c45-845e-b9821d342331",
        "execution": {
          "iopub.status.busy": "2021-06-21T12:16:15.000706Z",
          "iopub.execute_input": "2021-06-21T12:16:15.000999Z",
          "iopub.status.idle": "2021-06-21T12:16:15.399041Z",
          "shell.execute_reply.started": "2021-06-21T12:16:15.000974Z",
          "shell.execute_reply": "2021-06-21T12:16:15.398298Z"
        },
        "jupyter": {
          "outputs_hidden": false
        },
        "trusted": true,
        "colab": {
          "base_uri": "https://localhost:8080/"
        },
        "id": "h2lp29gVPiT4",
        "outputId": "126af0d0-9cff-453d-a652-8be0ddd55fdd"
      },
      "execution_count": null,
      "outputs": [
        {
          "output_type": "stream",
          "name": "stdout",
          "text": [
            "4/4 [==============================] - 1s 12ms/step\n"
          ]
        },
        {
          "output_type": "execute_result",
          "data": {
            "text/plain": [
              "(105, 1)"
            ]
          },
          "metadata": {},
          "execution_count": 27
        }
      ]
    },
    {
      "cell_type": "code",
      "source": [
        "#Transform back the inverse value\n",
        "\n",
        "output = scaler.inverse_transform(pred)\n",
        "org_vals = scaler.inverse_transform(y_test.reshape(-1,1))"
      ],
      "metadata": {
        "_uuid": "327b22aa-8ff6-4775-83fb-bc9bab754519",
        "_cell_guid": "273122a1-f907-4abb-89c2-a38987284640",
        "execution": {
          "iopub.status.busy": "2021-06-21T12:16:15.400465Z",
          "iopub.execute_input": "2021-06-21T12:16:15.400814Z",
          "iopub.status.idle": "2021-06-21T12:16:15.406762Z",
          "shell.execute_reply.started": "2021-06-21T12:16:15.400776Z",
          "shell.execute_reply": "2021-06-21T12:16:15.405315Z"
        },
        "jupyter": {
          "outputs_hidden": false
        },
        "trusted": true,
        "id": "BYQ1Y1msPiT4"
      },
      "execution_count": null,
      "outputs": []
    },
    {
      "cell_type": "code",
      "source": [
        "output"
      ],
      "metadata": {
        "_uuid": "8822c942-a518-4677-8cdb-ded2cef34a15",
        "_cell_guid": "fcef83c5-bd44-42f3-869b-7900554f1a89",
        "execution": {
          "iopub.status.busy": "2021-06-21T12:17:32.629608Z",
          "iopub.execute_input": "2021-06-21T12:17:32.629963Z",
          "iopub.status.idle": "2021-06-21T12:17:32.638839Z",
          "shell.execute_reply.started": "2021-06-21T12:17:32.629931Z",
          "shell.execute_reply": "2021-06-21T12:17:32.637912Z"
        },
        "jupyter": {
          "outputs_hidden": false
        },
        "trusted": true,
        "colab": {
          "base_uri": "https://localhost:8080/"
        },
        "id": "r4p5nd46PiT4",
        "outputId": "c9715ca5-f616-4895-e67f-c387471cd234"
      },
      "execution_count": null,
      "outputs": [
        {
          "output_type": "execute_result",
          "data": {
            "text/plain": [
              "array([[1985.1119],\n",
              "       [1987.4044],\n",
              "       [1983.5674],\n",
              "       [1995.1555],\n",
              "       [2000.3013],\n",
              "       [2008.3126],\n",
              "       [2008.9501],\n",
              "       [1994.2983],\n",
              "       [1983.0316],\n",
              "       [1968.9231],\n",
              "       [1969.6605],\n",
              "       [1982.2107],\n",
              "       [1987.7784],\n",
              "       [1992.0302],\n",
              "       [1990.6432],\n",
              "       [1987.3688],\n",
              "       [1997.8147],\n",
              "       [2024.7683],\n",
              "       [2067.65  ],\n",
              "       [2108.085 ],\n",
              "       [2127.3088],\n",
              "       [2146.4443],\n",
              "       [2158.6646],\n",
              "       [2170.2317],\n",
              "       [2177.6519],\n",
              "       [2189.3813],\n",
              "       [2213.2422],\n",
              "       [2226.0857],\n",
              "       [2224.333 ],\n",
              "       [2206.7617],\n",
              "       [2193.2268],\n",
              "       [2188.0317],\n",
              "       [2192.322 ],\n",
              "       [2188.0215],\n",
              "       [2175.526 ],\n",
              "       [2154.0735],\n",
              "       [2137.2715],\n",
              "       [2127.0535],\n",
              "       [2118.5308],\n",
              "       [2121.264 ],\n",
              "       [2111.307 ],\n",
              "       [2083.1448],\n",
              "       [2062.31  ],\n",
              "       [2044.1825],\n",
              "       [2044.4673],\n",
              "       [2050.4385],\n",
              "       [2071.5024],\n",
              "       [2092.377 ],\n",
              "       [2098.3054],\n",
              "       [2094.233 ],\n",
              "       [2090.7578],\n",
              "       [2095.557 ],\n",
              "       [2117.4404],\n",
              "       [2130.3867],\n",
              "       [2136.1284],\n",
              "       [2110.6697],\n",
              "       [2079.0864],\n",
              "       [2066.4585],\n",
              "       [2066.7795],\n",
              "       [2068.5317],\n",
              "       [2073.5378],\n",
              "       [2069.405 ],\n",
              "       [2071.2964],\n",
              "       [2056.0295],\n",
              "       [2050.703 ],\n",
              "       [2039.0193],\n",
              "       [2031.1963],\n",
              "       [2033.3419],\n",
              "       [2027.9707],\n",
              "       [2021.9882],\n",
              "       [2018.0576],\n",
              "       [2019.6603],\n",
              "       [2020.7554],\n",
              "       [2011.4884],\n",
              "       [1994.6914],\n",
              "       [1989.5526],\n",
              "       [1997.4637],\n",
              "       [2010.11  ],\n",
              "       [2022.1   ],\n",
              "       [2033.8646],\n",
              "       [2040.8757],\n",
              "       [2041.3123],\n",
              "       [2044.0587],\n",
              "       [2049.8845],\n",
              "       [2051.2305],\n",
              "       [2046.0151],\n",
              "       [2028.0912],\n",
              "       [2020.2632],\n",
              "       [2011.9662],\n",
              "       [2009.7484],\n",
              "       [2002.7437],\n",
              "       [2008.4663],\n",
              "       [2014.0419],\n",
              "       [1998.265 ],\n",
              "       [1972.0481],\n",
              "       [1946.5471],\n",
              "       [1936.5132],\n",
              "       [1936.2585],\n",
              "       [1922.1375],\n",
              "       [1909.9576],\n",
              "       [1896.693 ],\n",
              "       [1889.0553],\n",
              "       [1891.3634],\n",
              "       [1899.1932],\n",
              "       [1894.5125]], dtype=float32)"
            ]
          },
          "metadata": {},
          "execution_count": 29
        }
      ]
    },
    {
      "cell_type": "code",
      "source": [
        "def plotting(org_vals,output):\n",
        "    plt.figure(figsize=(10,5), dpi=80, facecolor='w', edgecolor='k')\n",
        "    plt.plot(org_vals,color=\"Green\",label=\"Org value\")\n",
        "    plt.plot(output,color=\"Yellow\",label=\"Predicted\")\n",
        "    plt.legend()\n",
        "    plt.xlabel(\"Days\")\n",
        "    plt.ylabel(\"Price\")\n",
        "    plt.grid(True)\n",
        "    plt.show()"
      ],
      "metadata": {
        "_uuid": "6302660a-5dc4-423b-80bb-8fda1800c468",
        "_cell_guid": "15f88099-0e97-4cdd-9454-e60c871961ae",
        "jupyter": {
          "outputs_hidden": false
        },
        "execution": {
          "iopub.status.busy": "2021-06-22T12:01:09.196765Z",
          "iopub.execute_input": "2021-06-22T12:01:09.197138Z",
          "iopub.status.idle": "2021-06-22T12:01:09.205096Z",
          "shell.execute_reply.started": "2021-06-22T12:01:09.197106Z",
          "shell.execute_reply": "2021-06-22T12:01:09.204186Z"
        },
        "trusted": true,
        "id": "v_Y-uhpEPiT4"
      },
      "execution_count": null,
      "outputs": []
    },
    {
      "cell_type": "code",
      "source": [
        "plotting(org_vals,output)"
      ],
      "metadata": {
        "_uuid": "2e89c17d-e3a0-400a-8fca-31ffd0a1f10b",
        "_cell_guid": "7bdc41c3-450a-4332-8767-c61ddfe21915",
        "execution": {
          "iopub.status.busy": "2021-06-21T12:17:10.454364Z",
          "iopub.execute_input": "2021-06-21T12:17:10.454689Z",
          "iopub.status.idle": "2021-06-21T12:17:10.612632Z",
          "shell.execute_reply.started": "2021-06-21T12:17:10.454659Z",
          "shell.execute_reply": "2021-06-21T12:17:10.611804Z"
        },
        "jupyter": {
          "outputs_hidden": false
        },
        "trusted": true,
        "colab": {
          "base_uri": "https://localhost:8080/",
          "height": 367
        },
        "id": "I7ls2TJKPiT4",
        "outputId": "8939b601-d5fa-4065-922c-3899f4456a80"
      },
      "execution_count": null,
      "outputs": [
        {
          "output_type": "display_data",
          "data": {
            "text/plain": [
              "<Figure size 800x400 with 1 Axes>"
            ],
            "image/png": "[encoded data removed]"
          },
          "metadata": {}
        }
      ]
    },
    {
      "cell_type": "markdown",
      "source": [
        "#B.2: Observations and Learning: <br>\n",
        "Understood the LSTM architecture and it’s use cases and how to preprocess the data to make sure it’s always in 3Dim format. Moreover, scaled the data before feeding to the model using “Close” label as the target feature."
      ],
      "metadata": {
        "id": "3tkIa00NfH7-"
      }
    },
    {
      "cell_type": "markdown",
      "source": [
        "#B.3 Conclusion:<br>\n",
        "Successfully implemented LSTM Model for Stock Price Prediction for the Company Apple. Revisted concepts of RNN and used a Kaggle Dataset for completing the task in Keras and Tensorflow."
      ],
      "metadata": {
        "id": "cb6OKFvhfPav"
      }
    },
    {
      "cell_type": "markdown",
      "source": [
        "#B.4 Question of curiosity:<br>\n",
        "\n",
        "1.\t<b>What is dimensionality reduction problem?</b><br>\n",
        "Ans: Dimensionality reduction is the process of reducing the number of input features or variables in a dataset while preserving the important information contained in the data. It is an important technique in machine learning and data analysis, as it can help improve the performance and efficiency of models by reducing the complexity of the data.\n",
        "The dimensionality reduction problem arises when working with datasets that contain a large number of input features or variables. These high-dimensional datasets can be difficult to work with, as they can lead to overfitting, increase the computational complexity of models, and make it harder to visualize and understand the data.<br>\n",
        "Dimensionality reduction methods aim to overcome these challenges by identifying the most important features or patterns in the data, and projecting the data onto a lower-dimensional space while preserving as much of the original information as possible. This can be done using techniques such as Principal Component Analysis (PCA), t-Distributed Stochastic Neighbor Embedding (t-SNE), Linear Discriminant Analysis (LDA), and many others.\n",
        "\n",
        "2.\t<b>What are the disadvantages of RNN?</b><br>\n",
        "Ans: Recurrent Neural Networks (RNNs) have become a popular and powerful tool in the field of deep learning, especially for processing sequential data. However, like any other machine learning technique, RNNs have their own set of limitations and drawbacks. Some of the main disadvantages of RNNs include:\n",
        "-\tVanishing and exploding gradients: RNNs can suffer from the problem of vanishing and exploding gradients, which can make it difficult to train the network effectively. \n",
        "-\tLack of long-term memory: RNNs have a limited ability to capture long-term dependencies in the input data. This means that they may struggle to remember information from earlier time steps in the sequence, which can limit their performance on tasks that require long-term memory.\n",
        "-\tComputationally expensive: RNNs can be computationally expensive to train and run, especially for large datasets or complex models.\n",
        "-\tDifficulty in parallelization: RNNs are inherently sequential models, which means that they are difficult to parallelize across multiple CPUs or GPUs. \n",
        "-\tDifficulty in handling variable-length sequences: RNNs require fixed-length sequences as inputs, which can make it difficult to handle variable-length sequences\n",
        "\n"
      ],
      "metadata": {
        "id": "RwJRjJFcfVA9"
      }
    }
  ]
}